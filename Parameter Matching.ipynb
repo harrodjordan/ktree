{
 "cells": [
  {
   "cell_type": "markdown",
   "metadata": {},
   "source": [
    "# Shallow Network Parameter Matching\n",
    "\n",
    "Match parameter amounts in shallow networks to k-trees"
   ]
  },
  {
   "cell_type": "code",
   "execution_count": 1,
   "metadata": {},
   "outputs": [],
   "source": [
    "from custompackage.load_data import *\n",
    "from custompackage.load_architecture import *\n",
    "from custompackage.traintestloop import *\n",
    "\n",
    "\n",
    "import torch\n",
    "from torch.utils.data import DataLoader\n",
    "import torch.optim as optim\n",
    "import torch.nn as nn\n",
    "import numpy as np\n",
    "import math\n",
    "import torchvision\n",
    "from torchvision import transforms\n",
    "from sklearn.discriminant_analysis import LinearDiscriminantAnalysis\n",
    "from sklearn.metrics import classification_report, confusion_matrix\n",
    "from sklearn.svm import SVC\n",
    "from sklearn.linear_model import LogisticRegression\n",
    "from sklearn.naive_bayes import GaussianNB\n",
    "import matplotlib\n",
    "import matplotlib.pyplot as plt\n",
    "from torch.optim.optimizer import required\n",
    "from torch.utils.data.dataset import random_split\n",
    "import scipy\n",
    "import os\n",
    "import glob\n",
    "import pandas as pd\n",
    "from hyperopt import hp, tpe, fmin, Trials\n",
    "import pickle\n",
    "\n",
    "% matplotlib inline"
   ]
  },
  {
   "cell_type": "markdown",
   "metadata": {},
   "source": [
    "### Visualize FCNN code, see if I can modify it slightly. \n",
    "\n",
    "Hidden_size is a parameter that can be set with \"repeats\" or \"trees\" param.\n",
    "\n",
    "Try the simple_fcnn model in the test space..."
   ]
  },
  {
   "cell_type": "code",
   "execution_count": null,
   "metadata": {},
   "outputs": [],
   "source": []
  },
  {
   "cell_type": "code",
   "execution_count": 2,
   "metadata": {},
   "outputs": [
    {
     "name": "stdout",
     "output_type": "stream",
     "text": [
      "3 5 cifar10\n",
      "Files already downloaded and verified\n",
      "Files already downloaded and verified\n",
      "0 0 0\n",
      "Finished Training, 2000 epochs\n",
      "Accuracy of the network on the 10000 test images: 54 %\n"
     ]
    }
   ],
   "source": [
    "# Test space for networks\n",
    "# Select Class Set\n",
    "class_set = 3\n",
    "\n",
    "# Initialize settings\n",
    "bs = 256\n",
    "weighting = 'paired'\n",
    "trials = 10\n",
    "epochs = 2000\n",
    "# trees_set = [1,2,4,8,16,32]\n",
    "trees_set = [8]\n",
    "\n",
    "\n",
    "classes = np.load('./results/20200511/classes.npy', allow_pickle=True)\n",
    "\n",
    "if class_set == 0:\n",
    "    classes = classes[0:2] # mnist fmnist\n",
    "elif class_set == 1:\n",
    "    classes = classes[2:4] # kmnist emnist\n",
    "elif class_set == 2:\n",
    "    classes = classes[4:6] # svhn usps\n",
    "else:\n",
    "    classes = classes[6].reshape(1,-1)\n",
    "\n",
    "\n",
    "loss = np.zeros((len(classes), trials, len(trees_set)))\n",
    "acc = np.zeros((len(classes), trials, len(trees_set)))\n",
    "\n",
    "    \n",
    "for j, (t1, t2, ds) in enumerate(classes):\n",
    "    print(t1, t2, ds)\n",
    "    trainloaders, validloaders, testloader = dataset_weighted_split_all(bs, t1, t2, weighting, trials, ds, permute=False)\n",
    "    input_size = trainloaders[0].dataset.tensors[0][0].shape[0]\n",
    "    for i in range(trials):\n",
    "        for k, trees in enumerate(trees_set):\n",
    "            print(j, i, k)\n",
    "#             model = ktree_gen(ds=ds, Repeats=trees, Padded=False).cuda()\n",
    "            model = simple_fcnn(input_size, input_size, 1).cuda()\n",
    "            \n",
    "#             loss_curve, acc_curve, loss[j,i,k], acc[j,i,k], model_t = train_test_ktree(model, trainloaders[i],\n",
    "#                                                                                   testloader, epochs = epochs, randorder=False)\n",
    "            loss_curve, acc_curve, loss[j,i], acc[j,i], model_t = train_test_fc(model, trainloaders[i],\n",
    "                                              validloaders[i], epochs = epochs)\n",
    "\n",
    "            break\n",
    "        break\n",
    "    break\n",
    "    \n",
    "#             np.save('./results/20200504/k_tree_acc_'+str(class_set)+'.npy', acc)\n",
    "#             np.save('./results/20200504/k_tree_loss_'+str(class_set)+'.npy', loss)\n"
   ]
  },
  {
   "cell_type": "code",
   "execution_count": 3,
   "metadata": {},
   "outputs": [
    {
     "data": {
      "text/plain": [
       "[<matplotlib.lines.Line2D at 0x7f8c4a774a20>]"
      ]
     },
     "execution_count": 3,
     "metadata": {},
     "output_type": "execute_result"
    },
    {
     "data": {
      "image/png": "[encoded data removed]",
      "text/plain": [
       "<Figure size 576x288 with 2 Axes>"
      ]
     },
     "metadata": {
      "needs_background": "light"
     },
     "output_type": "display_data"
    }
   ],
   "source": [
    "x = np.arange(epochs)\n",
    "\n",
    "a = np.array(acc_curve)\n",
    "fig, (ax1, ax2) = plt.subplots(1,2, figsize=(8,4))\n",
    "ax1.plot(acc_curve)\n",
    "ax2.plot(loss_curve)"
   ]
  },
  {
   "cell_type": "code",
   "execution_count": 46,
   "metadata": {},
   "outputs": [
    {
     "name": "stdout",
     "output_type": "stream",
     "text": [
      "[[3 5 'cifar10']]\n"
     ]
    }
   ],
   "source": [
    "print(classes)"
   ]
  },
  {
   "cell_type": "code",
   "execution_count": null,
   "metadata": {},
   "outputs": [],
   "source": []
  }
 ],
 "metadata": {
  "kernelspec": {
   "display_name": "Python 3",
   "language": "python",
   "name": "python3"
  },
  "language_info": {
   "codemirror_mode": {
    "name": "ipython",
    "version": 3
   },
   "file_extension": ".py",
   "mimetype": "text/x-python",
   "name": "python",
   "nbconvert_exporter": "python",
   "pygments_lexer": "ipython3",
   "version": "3.6.6"
  }
 },
 "nbformat": 4,
 "nbformat_minor": 2
}
