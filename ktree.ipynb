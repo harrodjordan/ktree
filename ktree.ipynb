{
 "cells": [
  {
   "cell_type": "markdown",
   "metadata": {},
   "source": [
    "# ktree\n",
    "\n",
    "Code up ktree and train on binary classification functions"
   ]
  },
  {
   "cell_type": "code",
   "execution_count": null,
   "metadata": {},
   "outputs": [],
   "source": []
  },
  {
   "cell_type": "code",
   "execution_count": 1,
   "metadata": {},
   "outputs": [],
   "source": [
    "import customrnn as cr\n",
    "\n",
    "from custompackage.load_data import *\n",
    "from custompackage.load_architecture import *\n",
    "from custompackage.traintestloop import *\n",
    "from custompackage.neuron_capacity import *\n",
    "from custompackage.sin_ineq import *\n",
    "\n",
    "import torch\n",
    "from torch.utils.data import DataLoader\n",
    "import torch.optim as optim\n",
    "import torch.nn as nn\n",
    "import numpy as np\n",
    "import math\n",
    "import torchvision\n",
    "from torchvision import transforms\n",
    "from sklearn.discriminant_analysis import LinearDiscriminantAnalysis\n",
    "from sklearn.metrics import classification_report, confusion_matrix\n",
    "from sklearn.svm import SVC\n",
    "from sklearn.linear_model import LogisticRegression\n",
    "from sklearn.naive_bayes import GaussianNB\n",
    "import matplotlib\n",
    "import matplotlib.pyplot as plt\n",
    "from torch.optim.optimizer import required\n",
    "from torch.utils.data.dataset import random_split\n",
    "import scipy\n",
    "import os\n",
    "import glob\n",
    "import pandas as pd\n",
    "from hyperopt import hp, tpe, fmin, Trials\n",
    "import pickle\n",
    "\n",
    "% matplotlib inline"
   ]
  },
  {
   "cell_type": "code",
   "execution_count": 2,
   "metadata": {},
   "outputs": [
    {
     "data": {
      "text/plain": [
       "2"
      ]
     },
     "execution_count": 2,
     "metadata": {},
     "output_type": "execute_result"
    }
   ],
   "source": [
    "torch.cuda.set_device(2)\n",
    "torch.cuda.current_device()\n"
   ]
  },
  {
   "cell_type": "markdown",
   "metadata": {},
   "source": [
    "# Prepare binary classification dataset\n",
    "\n",
    "Which class of cifar10 is most difficult to linearly classify?\n",
    "\n",
    "I recall that it is 2 and 4 (53%), but we can use 2 and 3 instead (60%)\n"
   ]
  },
  {
   "cell_type": "code",
   "execution_count": 3,
   "metadata": {},
   "outputs": [
    {
     "name": "stdout",
     "output_type": "stream",
     "text": [
      "Files already downloaded and verified\n",
      "Files already downloaded and verified\n"
     ]
    }
   ],
   "source": [
    "Batchsize=256\n",
    "Target_1=2\n",
    "Target_2=3\n",
    "Data_weighting='paired'\n",
    "Split=10\n",
    "ds='cifar10'\n",
    "\n",
    "\n",
    "\n",
    "trainloaders, validloaders, testloader = dataset_weighted_split(Batchsize,\n",
    "                                                                Target_1,\n",
    "                                                                Target_2,\n",
    "                                                                Data_weighting,\n",
    "                                                                Split,\n",
    "                                                                ds)"
   ]
  },
  {
   "cell_type": "code",
   "execution_count": 4,
   "metadata": {},
   "outputs": [
    {
     "name": "stderr",
     "output_type": "stream",
     "text": [
      "/home/ilenna/.conda/envs/py36_mod2/lib/python3.6/site-packages/sklearn/discriminant_analysis.py:388: UserWarning: Variables are collinear.\n",
      "  warnings.warn(\"Variables are collinear.\")\n"
     ]
    }
   ],
   "source": [
    "scores = np.zeros(Split)\n",
    "\n",
    "for i in range(Split):\n",
    "    \n",
    "    \n",
    "    trainloader = trainloaders[i]\n",
    "\n",
    "    x_train = trainloader.dataset.tensors[0]\n",
    "    y_train = trainloader.dataset.tensors[1]\n",
    "    x_test = testloader.dataset.tensors[0]\n",
    "    y_test = testloader.dataset.tensors[1]\n",
    "\n",
    "    lda = LinearDiscriminantAnalysis()\n",
    "    lda.fit(x_train, y_train)\n",
    "\n",
    "    scores[i] = lda.score(x_test,y_test)\n",
    "\n"
   ]
  },
  {
   "cell_type": "code",
   "execution_count": 6,
   "metadata": {},
   "outputs": [
    {
     "data": {
      "text/plain": [
       "0.5779"
      ]
     },
     "execution_count": 6,
     "metadata": {},
     "output_type": "execute_result"
    }
   ],
   "source": [
    "a = np.load('./results/20200316/acc_linear.npy')\n",
    "np.mean(a)"
   ]
  },
  {
   "cell_type": "code",
   "execution_count": 58,
   "metadata": {},
   "outputs": [],
   "source": [
    "# np.save('./results/20200316/acc_linear', scores)"
   ]
  },
  {
   "cell_type": "markdown",
   "metadata": {},
   "source": [
    "# Prepare ktree architecture"
   ]
  },
  {
   "cell_type": "code",
   "execution_count": 2,
   "metadata": {},
   "outputs": [
    {
     "data": {
      "text/plain": [
       "tensor([[0.5582]], device='cuda:0', grad_fn=<SigmoidBackward>)"
      ]
     },
     "execution_count": 2,
     "metadata": {},
     "output_type": "execute_result"
    }
   ],
   "source": [
    "class ktree_cifar10(nn.Module):\n",
    "    '''\n",
    "    Tree NN\n",
    "    '''\n",
    "    \n",
    "    def __init__(self, Activation=\"relu\", Sparse=True,\n",
    "                 Input_order=None, Repeats=1):\n",
    "        super(ktree_cifar10, self).__init__()\n",
    "        '''\n",
    "        Inputs: Input_size, Hidden_size, Output_size\n",
    "        '''\n",
    "        # Initialize architecture parameters\n",
    "        self.Activation = Activation\n",
    "        self.Sparse = Sparse\n",
    "        self.Input_order = Input_order\n",
    "        self.Repeats = Repeats\n",
    "        \n",
    "        # Initialize weights\n",
    "        # Set biases to 0\n",
    "        # Set kaiming initialize weights with gain to correct for sparsity\n",
    "        # Set freeze masks\n",
    "        self.k = [3072, 1024, 512, 256, 128, 64, 32, 16, 8, 4, 2, 1]\n",
    "        self.names = np.empty((self.Repeats, len(self.k)-1),dtype=object)\n",
    "        self.freeze_mask_set = []\n",
    "        for j in range(self.Repeats):\n",
    "            for i in range(len(self.k)-1):\n",
    "                name = ''.join(['w',str(j),'_',str(i)])\n",
    "                self.add_module(name, nn.Linear(self.k[i],self.k[i+1]))\n",
    "                self._modules[name].bias = nn.Parameter(torch.zeros_like(self._modules[name].bias)) \n",
    "                self._modules[name].weight.data, freeze_mask = self.initialize(self._modules[name])\n",
    "                self.names[j,i] = name\n",
    "                if j < 1:\n",
    "                    self.freeze_mask_set.append(freeze_mask)\n",
    "        \n",
    "        self.root = nn.Linear(Repeats, 1)\n",
    "        \n",
    "        # Initialize nonlinearities\n",
    "        self.relu = nn.LeakyReLU()\n",
    "        self.sigmoid = nn.Sigmoid()\n",
    "    \n",
    "    def forward(self, x):\n",
    "        '''\n",
    "        Forward step for network. Establishes Architecture.\n",
    "        Inputs: Input, Hidden\n",
    "        Outputs: Output, Hidden\n",
    "        '''\n",
    "        \n",
    "        y_out = []\n",
    "        for j in range(self.Repeats):\n",
    "            y = x\n",
    "            for i in range(len(self.k)-1):\n",
    "                if self.Activation == 'relu':\n",
    "                    y = self.relu(self._modules[self.names[j,i]](y))\n",
    "                else:\n",
    "                    y = self._modules[self.names[j,i]](y)\n",
    "            y_out.append(y)\n",
    "\n",
    "        output = self.sigmoid(self.root(torch.cat((y_out), dim=1)))\n",
    "\n",
    "        return(output)\n",
    "    \n",
    "    \n",
    "model = ktree_cifar10(Sparse=False,Repeats=2).cuda()\n",
    "\n",
    "a = torch.ones((1,3072)).cuda()\n",
    "model(a)\n",
    "\n"
   ]
  },
  {
   "cell_type": "code",
   "execution_count": null,
   "metadata": {},
   "outputs": [],
   "source": [
    "\n",
    "\n",
    "# model = ktree_cifar10(Repeats=2)\n",
    "\n",
    "# # k = [3072, 1024, 512, 256, 128, 64, 32, 16, 8, 4, 2, 1]\n",
    "# # names=[]\n",
    "# # for j in range(2):\n",
    "# #     for i in range(11):\n",
    "# #         a = 'w'+str(j)+'_'+str(i)\n",
    "# #         model.add_module(a, nn.Linear(k[i],k[i+1]))\n",
    "# #         names.append(a)\n",
    "# x = torch.ones((1,3072))\n",
    "\n",
    "# k = [3072, 1024, 512, 256, 128, 64, 32, 16, 8, 4, 2, 1]\n",
    "# names = np.empty((model.Repeats, len(k)-1),dtype=object)\n",
    "# for j in range(model.Repeats):\n",
    "#     for i in range(len(k)-1):\n",
    "#         name = ''.join(['w',str(j),'_',str(i)])\n",
    "#         model.add_module(name, nn.Linear(k[i],k[i+1]))\n",
    "#         model._modules[name].bias = nn.Parameter(torch.zeros_like(model._modules[name].bias)) \n",
    "#         model._modules[name].weight.data, freeze = model.initialize(model._modules[name])\n",
    "#         names[j,i] = name\n",
    "\n",
    "\n",
    "# y_out = []\n",
    "# for j in range(model.Repeats):\n",
    "#     y = x\n",
    "#     for i in range(len(k)-1):\n",
    "#         y = model._modules[names[j,i]](y)\n",
    "# #         print(y)\n",
    "#     y_out.append(y)\n",
    "\n",
    "# output = model.sigmoid(model.roottorch.cat((y_out), dim=1)\n",
    "# print(y_out)\n",
    "# # int(names[0][1])\n",
    "# # model._modules[names[1]]\n",
    "# # model.named_modules"
   ]
  },
  {
   "cell_type": "markdown",
   "metadata": {},
   "source": [
    "# Train and test new model - can it learn?"
   ]
  },
  {
   "cell_type": "code",
   "execution_count": 122,
   "metadata": {},
   "outputs": [],
   "source": [
    "def train_test_ktree(model, trainloader, testloader, epochs=10):\n",
    "    criterion = nn.BCELoss()\n",
    "    optimizer = optim.Adam(model.parameters(), lr=0.001)\n",
    "\n",
    "    loss_curve = []\n",
    "    acc_curve = []\n",
    "    for epoch in range(epochs):  # loop over the dataset multiple times\n",
    "\n",
    "        running_loss = 0.0\n",
    "        running_acc = 0.0\n",
    "\n",
    "        for i, data in enumerate(trainloader):\n",
    "            # get the inputs; data is a list of [inputs, labels]\n",
    "            inputs, labels, _ = data\n",
    "            inputs = inputs.cuda()\n",
    "            labels = labels.cuda()\n",
    "\n",
    "            # zero the parameter gradients\n",
    "            optimizer.zero_grad()\n",
    "\n",
    "            # forward + backward + optimize\n",
    "            outputs = model(inputs)\n",
    "            loss = criterion(outputs, labels.float().reshape(-1,1))\n",
    "            loss.backward()\n",
    "            \n",
    "####        # Freeze select weights by zeroing out gradients\n",
    "            for child in model.children():\n",
    "                for param in child.parameters():\n",
    "                    for freeze_mask in model.freeze_mask_set:\n",
    "                        if param.grad.shape == freeze_mask.shape:\n",
    "                            param.grad[freeze_mask] = 0\n",
    "            \n",
    "            optimizer.step()\n",
    "\n",
    "            # print statistics\n",
    "            running_loss += loss.item()\n",
    "            running_acc += (torch.round(outputs) == labels.float().reshape(-1,1)).sum().item()/trainloader.batch_size\n",
    "            if (i % 4) == 3:    # print every 80 mini-batches\n",
    "                loss_curve.append(running_loss/3)\n",
    "                acc_curve.append(running_acc/3)\n",
    "                running_loss = 0.0\n",
    "\n",
    "    print('Finished Training, %d epochs' % (epoch+1))\n",
    "    \n",
    "    correct = 0\n",
    "    total = 0\n",
    "    with torch.no_grad():\n",
    "        for data in testloader:\n",
    "            images, labels, _ = data\n",
    "            images = images.cuda()\n",
    "            labels = labels.cuda()\n",
    "            outputs = model(images)\n",
    "            loss = criterion(outputs, labels.float().reshape(-1,1))\n",
    "            predicted = torch.round(outputs)\n",
    "            total += labels.size(0)\n",
    "            correct += (predicted == labels.float().reshape(-1,1)).sum().item()\n",
    "\n",
    "    accuracy = correct/total\n",
    "    \n",
    "    print('Accuracy of the network on the 10000 test images: %d %%' % (\n",
    "        100 * accuracy))\n",
    "        \n",
    "    return(loss_curve, acc_curve, loss, accuracy, model)"
   ]
  },
  {
   "cell_type": "code",
   "execution_count": 3,
   "metadata": {},
   "outputs": [
    {
     "name": "stdout",
     "output_type": "stream",
     "text": [
      "Files already downloaded and verified\n",
      "Files already downloaded and verified\n"
     ]
    }
   ],
   "source": [
    "Batchsize=256\n",
    "Target_1=2\n",
    "Target_2=3\n",
    "Data_weighting='paired'\n",
    "Split=10\n",
    "ds='cifar10'\n",
    "\n",
    "\n",
    "trainloaders, validloaders, testloader = dataset_weighted_split(Batchsize,\n",
    "                                                                Target_1,\n",
    "                                                                Target_2,\n",
    "                                                                Data_weighting,\n",
    "                                                                Split,\n",
    "                                                                ds)\n"
   ]
  },
  {
   "cell_type": "code",
   "execution_count": 75,
   "metadata": {},
   "outputs": [
    {
     "name": "stdout",
     "output_type": "stream",
     "text": [
      "Finished Training, 5000 epochs\n",
      "Accuracy of the network on the 10000 test images: 63 %\n"
     ]
    },
    {
     "data": {
      "text/plain": [
       "[<matplotlib.lines.Line2D at 0x7f38644776a0>]"
      ]
     },
     "execution_count": 75,
     "metadata": {},
     "output_type": "execute_result"
    },
    {
     "data": {
      "image/png": "[encoded data removed]",
      "text/plain": [
       "<Figure size 432x288 with 1 Axes>"
      ]
     },
     "metadata": {
      "needs_background": "light"
     },
     "output_type": "display_data"
    }
   ],
   "source": [
    "model = ktree_cifar10(Repeats=2).cuda()\n",
    "\n",
    "\n",
    "loss_curve, acc_curve, acc, loss, model_t = train_test_ktree(model, trainloaders[0],\n",
    "                                      validloaders[0], epochs = 5000)\n",
    "\n",
    "plt.plot(loss_curve)\n",
    "\n"
   ]
  },
  {
   "cell_type": "code",
   "execution_count": 76,
   "metadata": {},
   "outputs": [
    {
     "data": {
      "text/plain": [
       "[<matplotlib.lines.Line2D at 0x7f386eff84a8>]"
      ]
     },
     "execution_count": 76,
     "metadata": {},
     "output_type": "execute_result"
    },
    {
     "data": {
      "image/png": "[encoded data removed]",
      "text/plain": [
       "<Figure size 432x288 with 1 Axes>"
      ]
     },
     "metadata": {
      "needs_background": "light"
     },
     "output_type": "display_data"
    }
   ],
   "source": [
    "plt.plot(acc_curve)"
   ]
  },
  {
   "cell_type": "code",
   "execution_count": 4,
   "metadata": {},
   "outputs": [
    {
     "name": "stdout",
     "output_type": "stream",
     "text": [
      "Finished Training, 500 epochs\n",
      "Accuracy of the network on the 10000 test images: 66 %\n"
     ]
    },
    {
     "data": {
      "text/plain": [
       "[<matplotlib.lines.Line2D at 0x7f9a2a8f06a0>]"
      ]
     },
     "execution_count": 4,
     "metadata": {},
     "output_type": "execute_result"
    },
    {
     "data": {
      "image/png": "[encoded data removed]",
      "text/plain": [
       "<Figure size 432x288 with 1 Axes>"
      ]
     },
     "metadata": {
      "needs_background": "light"
     },
     "output_type": "display_data"
    }
   ],
   "source": [
    "model = ktree_cifar10(Repeats=8).cuda()\n",
    "\n",
    "\n",
    "loss_curve, acc_curve, acc, loss, model_t = train_test_ktree(model, trainloaders[0],\n",
    "                                      validloaders[0], epochs = 500)\n",
    "\n",
    "plt.plot(loss_curve)\n",
    "\n"
   ]
  },
  {
   "cell_type": "code",
   "execution_count": 5,
   "metadata": {},
   "outputs": [
    {
     "data": {
      "text/plain": [
       "[<matplotlib.lines.Line2D at 0x7f9a299bb2b0>]"
      ]
     },
     "execution_count": 5,
     "metadata": {},
     "output_type": "execute_result"
    },
    {
     "data": {
      "image/png": "[encoded data removed]",
      "text/plain": [
       "<Figure size 432x288 with 1 Axes>"
      ]
     },
     "metadata": {
      "needs_background": "light"
     },
     "output_type": "display_data"
    }
   ],
   "source": [
    "plt.plot(acc_curve)"
   ]
  },
  {
   "cell_type": "markdown",
   "metadata": {},
   "source": [
    "# FC Network"
   ]
  },
  {
   "cell_type": "code",
   "execution_count": 51,
   "metadata": {},
   "outputs": [],
   "source": [
    "def train_test_fc(model, trainloader, testloader, epochs=10):\n",
    "    criterion = nn.BCELoss()\n",
    "    optimizer = optim.Adam(model.parameters(), lr=0.001)\n",
    "\n",
    "    loss_curve = []\n",
    "    acc_curve = []\n",
    "    for epoch in range(epochs):  # loop over the dataset multiple times\n",
    "\n",
    "        running_loss = 0.0\n",
    "        running_acc = 0.0\n",
    "\n",
    "        for i, data in enumerate(trainloader):\n",
    "            # get the inputs; data is a list of [inputs, labels]\n",
    "            inputs, labels, _ = data\n",
    "            inputs = inputs.cuda()\n",
    "            labels = labels.cuda()\n",
    "\n",
    "            # zero the parameter gradients\n",
    "            optimizer.zero_grad()\n",
    "\n",
    "            # forward + backward + optimize\n",
    "            outputs = model(inputs)\n",
    "            loss = criterion(outputs, labels.float().reshape(-1,1))\n",
    "            loss.backward()\n",
    "            \n",
    "            optimizer.step()\n",
    "\n",
    "            # print statistics\n",
    "            running_loss += loss.item()\n",
    "            running_acc += (torch.round(outputs) == labels.float().reshape(-1,1)).sum().item()/trainloader.batch_size\n",
    "            if i % 4 == 3:    # print every 80 mini-batches\n",
    "\n",
    "                loss_curve.append(running_loss/3)\n",
    "                acc_curve.append(running_acc/3)\n",
    "                running_loss = 0.0\n",
    "                running_acc = 0.0\n",
    "\n",
    "    print('Finished Training, %d epochs' % (epoch+1))\n",
    "    \n",
    "    correct = 0\n",
    "    all_loss = 0\n",
    "    total = 0\n",
    "    with torch.no_grad():\n",
    "        for data in testloader:\n",
    "            images, labels, _ = data\n",
    "            images = images.cuda()\n",
    "            labels = labels.cuda()\n",
    "            outputs = model(images)\n",
    "            loss = criterion(outputs, labels.float().reshape(-1,1))\n",
    "            predicted = torch.round(outputs)\n",
    "            total += labels.size(0)\n",
    "            correct += (predicted == labels.float().reshape(-1,1)).sum().item()\n",
    "            all_loss += loss\n",
    "    accuracy = correct/total\n",
    "    ave_loss = all_loss.item()/total\n",
    "    \n",
    "    print('Accuracy of the network on the 10000 test images: %d %%' % (\n",
    "        100 * accuracy))\n",
    "        \n",
    "    return(loss_curve, acc_curve, ave_loss, accuracy, model)"
   ]
  },
  {
   "cell_type": "code",
   "execution_count": 32,
   "metadata": {},
   "outputs": [],
   "source": [
    "class simple_fcnn(nn.Module):\n",
    "    '''\n",
    "    2 layer feed forward neural network. \n",
    "    Will code in Linear, Sigmoid, or ReLU activation functions.\n",
    "    Activation = {'relu', 'sigmoid', 'linear'}\n",
    "    '''\n",
    "    \n",
    "    def __init__(self, Input_size=3072, Hidden_size=3072, Output_size=1, Activation=\"relu\"):\n",
    "        super(simple_fcnn, self).__init__()\n",
    "        '''\n",
    "        Inputs: Input_size, Hidden_size, Output_size\n",
    "        '''\n",
    "        # Initialize architecture parameters\n",
    "        self.Input_size = Input_size\n",
    "        self.Hidden_size = Hidden_size\n",
    "        self.Output_size = Output_size\n",
    "        self.Activation = Activation\n",
    "        \n",
    "        \n",
    "        # Initialize weights through He initialization (by default in nn.Linear)\n",
    "        \n",
    "        self.i2h = nn.Linear(Input_size, Hidden_size, bias=True)\n",
    "        self.i2h.bias = torch.nn.Parameter(torch.zeros_like(self.i2h.bias))\n",
    "        self.i2h.weight = torch.nn.init.normal_(self.i2h.weight, mean=0.0, std=math.sqrt(2/(Input_size)))\n",
    "            \n",
    "\n",
    "        # Initialize densly connected output layer\n",
    "        self.h2o = nn.Linear(Hidden_size, Output_size)\n",
    "        self.h2o.bias = torch.nn.Parameter(torch.zeros_like(self.h2o.bias))\n",
    "        self.h2o.weight = torch.nn.init.kaiming_normal_(self.h2o.weight, a=0.01)\n",
    "        \n",
    "        # Initialize nonlinearities\n",
    "        self.relu = nn.LeakyReLU()\n",
    "        self.sigmoid = nn.Sigmoid()\n",
    "        \n",
    "    def forward(self, x):\n",
    "        '''\n",
    "        Forward step for network. Establishes Architecture.\n",
    "        Inputs: Input, Hidden\n",
    "        Outputs: Output, Hidden\n",
    "        '''\n",
    "        # Prepare input for appropriate architecture\n",
    "\n",
    "        \n",
    "        # Set Activation function to calculate hidden layer\n",
    "\n",
    "        if self.Activation == 'relu':\n",
    "            Hidden = self.relu(self.i2h(x))\n",
    "        else:\n",
    "            Hidden = self.i2h(x)\n",
    "\n",
    "        # Calculate Output layer\n",
    "        Output = self.sigmoid(self.h2o(Hidden))\n",
    "        return(Output)"
   ]
  },
  {
   "cell_type": "code",
   "execution_count": 39,
   "metadata": {},
   "outputs": [
    {
     "name": "stdout",
     "output_type": "stream",
     "text": [
      "Finished Training, 100 epochs\n",
      "Accuracy of the network on the 10000 test images: 70 %\n"
     ]
    },
    {
     "data": {
      "text/plain": [
       "[<matplotlib.lines.Line2D at 0x7f9a29a34b38>]"
      ]
     },
     "execution_count": 39,
     "metadata": {},
     "output_type": "execute_result"
    },
    {
     "data": {
      "image/png": "[encoded data removed]",
      "text/plain": [
       "<Figure size 432x288 with 1 Axes>"
      ]
     },
     "metadata": {
      "needs_background": "light"
     },
     "output_type": "display_data"
    }
   ],
   "source": [
    "model = simple_fcnn(3072, 3072, 1).cuda()\n",
    "\n",
    "\n",
    "loss_curve, acc_curve, loss, acc, model_t = train_test_fc(model, trainloaders[0],\n",
    "                                      validloaders[0], epochs = 100)\n",
    "\n",
    "plt.plot(loss_curve)\n",
    "\n"
   ]
  },
  {
   "cell_type": "code",
   "execution_count": 40,
   "metadata": {},
   "outputs": [
    {
     "name": "stdout",
     "output_type": "stream",
     "text": [
      "100\n",
      "0.6649305555555556\n"
     ]
    },
    {
     "data": {
      "image/png": "[encoded data removed]",
      "text/plain": [
       "<Figure size 432x288 with 1 Axes>"
      ]
     },
     "metadata": {
      "needs_background": "light"
     },
     "output_type": "display_data"
    }
   ],
   "source": [
    "plt.plot(acc_curve)\n",
    "print(len(acc_curve))\n",
    "print(acc_curve[0]*4/3)"
   ]
  },
  {
   "cell_type": "code",
   "execution_count": null,
   "metadata": {},
   "outputs": [],
   "source": []
  },
  {
   "cell_type": "markdown",
   "metadata": {},
   "source": [
    "# Hyperparameter optimization script"
   ]
  },
  {
   "cell_type": "code",
   "execution_count": null,
   "metadata": {},
   "outputs": [],
   "source": [
    "# # Testing 1tree relu\n",
    "# def objective(space):\n",
    "#     # Objective function will contain architecture and dataset    \n",
    "    \n",
    "#     ds = 'cifar10'\n",
    "    \n",
    "#     lr = space['lr']\n",
    "#     bs = int(space['bs'])\n",
    "    \n",
    "#     trials = 10\n",
    "#     epochs = 5000\n",
    "    \n",
    "#     target_1 = 2\n",
    "#     target_2 = 3\n",
    "\n",
    "#     train_loaders, valid_loaders, test_loader = dataset_weighted_split( Batch_size=bs,\n",
    "#                                                                         Target_class_1=target_1,\n",
    "#                                                                         Target_class_2=target_2,\n",
    "#                                                                         Data_weighting='paired',\n",
    "#                                                                         Split=trials,\n",
    "#                                                                         ds=ds)\n",
    "    \n",
    "#     # Select archetype to run\n",
    "#     model = ktree_cifar10(Repeats=1).cuda()\n",
    "\n",
    "#     loss_curve, acc_curve, acc, loss, model_t = train_test_ktree(model, trainloaders[0],\n",
    "#                                           test_loader, epochs = epochs)\n",
    "        \n",
    "#     # Output will be test_loss\n",
    "#     return loss\n",
    "\n",
    "# space = {\n",
    "#         'lr' : hp.loguniform('lr', -6, -3),\n",
    "#         'bs' :  hp.qloguniform('bs', 1, 6, 1),\n",
    "# }\n",
    "\n",
    "# #Create tpe algorithm (Tree Parzen Estimator)\n",
    "# tpe_algo = tpe.suggest\n",
    "\n",
    "# # Create Trials Object\n",
    "# tpe_trials = Trials()\n",
    "\n",
    "# # Run the optimization\n",
    "# tpe_best = fmin(fn=objective, \n",
    "#                 space=space, \n",
    "#                 algo=tpe_algo, \n",
    "#                 trials=tpe_trials, \n",
    "#                 max_evals=20, \n",
    "#                 rstate= np.random.RandomState(50))\n",
    "\n",
    "# DIR = \"./results/20200312/\"\n",
    "# filename = 'hyperopt_1tree_relu.p'\n",
    "\n",
    "# pickle.dump(tpe_trials, open(os.path.join(DIR, filename), \"wb\"))\n"
   ]
  },
  {
   "cell_type": "code",
   "execution_count": null,
   "metadata": {},
   "outputs": [],
   "source": [
    "# # Testing fc network\n",
    "# # Testing 1tree relu\n",
    "# def objective(space):\n",
    "#     # Objective function will contain architecture and dataset    \n",
    "    \n",
    "#     ds = 'cifar10'\n",
    "    \n",
    "#     lr = space['lr']\n",
    "#     bs = int(space['bs'])\n",
    "    \n",
    "#     trials = 10\n",
    "#     epochs = 500\n",
    "    \n",
    "#     target_1 = 2\n",
    "#     target_2 = 3\n",
    "\n",
    "#     train_loaders, valid_loaders, test_loader = dataset_weighted_split( Batch_size=bs,\n",
    "#                                                                         Target_class_1=target_1,\n",
    "#                                                                         Target_class_2=target_2,\n",
    "#                                                                         Data_weighting='paired',\n",
    "#                                                                         Split=trials,\n",
    "#                                                                         ds=ds)\n",
    "    \n",
    "#     # Select archetype to run\n",
    "#     model = simple_fcnn(3072, 3072, 1, Density=1).cuda()\n",
    "#     model = model.cuda()\n",
    "\n",
    "#     loss_curve, acc_curve, loss, acc, model_t = train_test_fc(model, trainloaders[0],\n",
    "#                                           validloaders[0], epochs = 500)\n",
    "        \n",
    "#     # Output will be test_loss\n",
    "#     return loss\n",
    "\n",
    "# space = {\n",
    "#         'lr' : hp.loguniform('lr', -6, -3),\n",
    "#         'bs' :  hp.qloguniform('bs', 1, 6, 1),\n",
    "# }\n",
    "\n",
    "# #Create tpe algorithm (Tree Parzen Estimator)\n",
    "# tpe_algo = tpe.suggest\n",
    "\n",
    "# # Create Trials Object\n",
    "# tpe_trials = Trials()\n",
    "\n",
    "# # Run the optimization\n",
    "# tpe_best = fmin(fn=objective, \n",
    "#                 space=space, \n",
    "#                 algo=tpe_algo, \n",
    "#                 trials=tpe_trials, \n",
    "#                 max_evals=20, \n",
    "#                 rstate= np.random.RandomState(50))\n",
    "\n",
    "# DIR = \"./results/20200312/\"\n",
    "# filename = 'hyperopt_fcnn_relu.p'\n",
    "\n",
    "# pickle.dump(tpe_trials, open(os.path.join(DIR, filename), \"wb\"))\n"
   ]
  },
  {
   "cell_type": "code",
   "execution_count": 67,
   "metadata": {},
   "outputs": [
    {
     "name": "stdout",
     "output_type": "stream",
     "text": [
      "0\n"
     ]
    },
    {
     "data": {
      "image/png": "[encoded data removed]",
      "text/plain": [
       "<Figure size 432x288 with 1 Axes>"
      ]
     },
     "metadata": {
      "needs_background": "light"
     },
     "output_type": "display_data"
    },
    {
     "name": "stdout",
     "output_type": "stream",
     "text": [
      "lr: 0.04921849151558738 \n",
      "bs: 51.0\n"
     ]
    },
    {
     "data": {
      "image/png": "[encoded data removed]",
      "text/plain": [
       "<Figure size 432x288 with 1 Axes>"
      ]
     },
     "metadata": {
      "needs_background": "light"
     },
     "output_type": "display_data"
    }
   ],
   "source": [
    "tpe_trials = pickle.load(open('./results/20200312/hyperopt_1tree_relu.p', \"rb\"))\n",
    "\n",
    "tpe_results = pd.DataFrame({'loss': [x['loss'] for x in tpe_trials.results], \n",
    "                            'iteration': tpe_trials.idxs_vals[0]['lr'],\n",
    "                            'lr': tpe_trials.idxs_vals[1]['lr'],\n",
    "                            'bs': tpe_trials.idxs_vals[1]['bs']})\n",
    "\n",
    "a = tpe_results.sort_values('loss')\n",
    "\n",
    "print(sum(a.loss>5))\n",
    "\n",
    "fig = plt.figure()\n",
    "ax = plt.gca()\n",
    "ax.scatter(tpe_results['lr'], \n",
    "           tpe_results['bs'])\n",
    "# ax.scatter(a['lr'][0], a['bs'][0])\n",
    "ax.set_yscale('log')\n",
    "ax.set_xscale('log')\n",
    "ax.set_xlabel('lr')\n",
    "ax.set_ylabel('bs')\n",
    "plt.show()\n",
    "\n",
    "b = tpe_results.sort_values('loss').reset_index(drop=True)\n",
    "\n",
    "import seaborn as sns\n",
    "\n",
    "ax = sns.barplot(b.index, b.loss)\n",
    "\n",
    "print('lr:', a['lr'][0],'\\nbs:', a['bs'][0])"
   ]
  },
  {
   "cell_type": "code",
   "execution_count": 43,
   "metadata": {},
   "outputs": [
    {
     "name": "stdout",
     "output_type": "stream",
     "text": [
      "0\n"
     ]
    },
    {
     "data": {
      "image/png": "[encoded data removed]",
      "text/plain": [
       "<Figure size 432x288 with 1 Axes>"
      ]
     },
     "metadata": {
      "needs_background": "light"
     },
     "output_type": "display_data"
    },
    {
     "name": "stdout",
     "output_type": "stream",
     "text": [
      "lr: 0.017441287476831522 \n",
      "bs: 11.0\n"
     ]
    },
    {
     "data": {
      "image/png": "[encoded data removed]",
      "text/plain": [
       "<Figure size 432x288 with 1 Axes>"
      ]
     },
     "metadata": {
      "needs_background": "light"
     },
     "output_type": "display_data"
    }
   ],
   "source": [
    "tpe_trials = pickle.load(open('./results/20200312/hyperopt_fcnn_relu.p', \"rb\"))\n",
    "\n",
    "tpe_results = pd.DataFrame({'loss': [x['loss'] for x in tpe_trials.results], \n",
    "                            'iteration': tpe_trials.idxs_vals[0]['lr'],\n",
    "                            'lr': tpe_trials.idxs_vals[1]['lr'],\n",
    "                            'bs': tpe_trials.idxs_vals[1]['bs']})\n",
    "\n",
    "a = tpe_results.sort_values('loss')\n",
    "\n",
    "print(sum(a.loss>5))\n",
    "\n",
    "fig = plt.figure()\n",
    "ax = plt.gca()\n",
    "ax.scatter(tpe_results['lr'], \n",
    "           tpe_results['bs'])\n",
    "# ax.scatter(a['lr'][0], a['bs'][0])\n",
    "ax.set_yscale('log')\n",
    "ax.set_xscale('log')\n",
    "ax.set_xlabel('lr')\n",
    "ax.set_ylabel('bs')\n",
    "plt.show()\n",
    "\n",
    "b = tpe_results.sort_values('loss').reset_index(drop=True)\n",
    "\n",
    "import seaborn as sns\n",
    "\n",
    "ax = sns.barplot(b.index, b.loss)\n",
    "i = 0\n",
    "print('lr:', a['lr'][i],'\\nbs:', a['bs'][i])"
   ]
  },
  {
   "cell_type": "code",
   "execution_count": null,
   "metadata": {},
   "outputs": [],
   "source": []
  },
  {
   "cell_type": "markdown",
   "metadata": {},
   "source": [
    "# Script for testing k-trees - plotting ktree accuracy"
   ]
  },
  {
   "cell_type": "code",
   "execution_count": null,
   "metadata": {},
   "outputs": [],
   "source": [
    "Batchsize=256\n",
    "Target_1=2\n",
    "Target_2=3\n",
    "Data_weighting='paired'\n",
    "trials=10\n",
    "ds='cifar10'\n",
    "\n",
    "epochs = 5000\n",
    "\n",
    "trees_set = [1,2,4,8,16,32]\n",
    "\n",
    "acc = np.zeros((trials, len(trees_set)))\n",
    "loss = np.zeros((trials, len(trees_set)))\n",
    "\n",
    "\n",
    "trainloaders, validloaders, testloader = dataset_weighted_split(Batchsize,\n",
    "                                                                Target_1,\n",
    "                                                                Target_2,\n",
    "                                                                Data_weighting,\n",
    "                                                                trials,\n",
    "                                                                ds)\n",
    "\n",
    "for i in range(trials):\n",
    "    for j, trees in enumerate(trees_set):\n",
    "        print(i, j)\n",
    "        model = ktree_cifar10(Repeats=trees).cuda()\n",
    "\n",
    "\n",
    "        loss_curve, acc_curve, loss[i,j], acc[i,j] model_t = train_test_ktree(model, trainloaders[i],\n",
    "                                              testloader, epochs = 5000)\n",
    "        \n",
    "        np.save('./results/20200316/k_tree_acc.npy', acc)\n",
    "        np.save('./results/20200316/k_tree_loss.npy', loss)\n"
   ]
  },
  {
   "cell_type": "markdown",
   "metadata": {},
   "source": [
    "# Testing fc tree"
   ]
  },
  {
   "cell_type": "code",
   "execution_count": null,
   "metadata": {},
   "outputs": [],
   "source": [
    "Batchsize=256\n",
    "Target_1=2\n",
    "Target_2=3\n",
    "Data_weighting='paired'\n",
    "trials = 10\n",
    "ds='cifar10'\n",
    "\n",
    "acc = np.zeros((trials))\n",
    "loss = np.zeros((trials))\n",
    "\n",
    "trainloaders, validloaders, testloader = dataset_weighted_split(Batchsize,\n",
    "                                                                Target_1,\n",
    "                                                                Target_2,\n",
    "                                                                Data_weighting,\n",
    "                                                                trials,\n",
    "                                                                ds)\n",
    "\n",
    "\n",
    "for i in range(trials):\n",
    "    print(i)\n",
    "\n",
    "    model = simple_fcnn(3072, 3072, 1).cuda()\n",
    "\n",
    "\n",
    "    loss_curve, acc_curve, loss[i], acc[i], model_t = train_test_fc(model, trainloaders[i],\n",
    "                                          validloaders[i], epochs = 500)\n",
    "\n",
    "\n",
    "    np.save('./results/20200316/fc_acc.npy', acc)\n",
    "    np.save('./results/20200316/fc_loss.npy', loss)\n",
    "\n"
   ]
  }
 ],
 "metadata": {
  "kernelspec": {
   "display_name": "Python 3",
   "language": "python",
   "name": "python3"
  },
  "language_info": {
   "codemirror_mode": {
    "name": "ipython",
    "version": 3
   },
   "file_extension": ".py",
   "mimetype": "text/x-python",
   "name": "python",
   "nbconvert_exporter": "python",
   "pygments_lexer": "ipython3",
   "version": "3.6.6"
  }
 },
 "nbformat": 4,
 "nbformat_minor": 2
}
