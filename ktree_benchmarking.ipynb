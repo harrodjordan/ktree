{
 "cells": [
  {
   "cell_type": "markdown",
   "metadata": {},
   "source": [
    "# ktree benchmarking\n",
    "\n",
    "benchmark ktrees using various datasets"
   ]
  },
  {
   "cell_type": "code",
   "execution_count": 7,
   "metadata": {},
   "outputs": [
    {
     "ename": "ModuleNotFoundError",
     "evalue": "No module named 'custompackage.neuron_capacity'",
     "output_type": "error",
     "traceback": [
      "\u001b[1;31m---------------------------------------------------------------------------\u001b[0m",
      "\u001b[1;31mModuleNotFoundError\u001b[0m                       Traceback (most recent call last)",
      "\u001b[1;32m<ipython-input-7-2c96415184fb>\u001b[0m in \u001b[0;36m<module>\u001b[1;34m\u001b[0m\n\u001b[0;32m      2\u001b[0m \u001b[1;32mfrom\u001b[0m \u001b[0mcustompackage\u001b[0m\u001b[1;33m.\u001b[0m\u001b[0mload_architecture\u001b[0m \u001b[1;32mimport\u001b[0m \u001b[1;33m*\u001b[0m\u001b[1;33m\u001b[0m\u001b[1;33m\u001b[0m\u001b[0m\n\u001b[0;32m      3\u001b[0m \u001b[1;32mfrom\u001b[0m \u001b[0mcustompackage\u001b[0m\u001b[1;33m.\u001b[0m\u001b[0mtraintestloop\u001b[0m \u001b[1;32mimport\u001b[0m \u001b[1;33m*\u001b[0m\u001b[1;33m\u001b[0m\u001b[1;33m\u001b[0m\u001b[0m\n\u001b[1;32m----> 4\u001b[1;33m \u001b[1;32mfrom\u001b[0m \u001b[0mcustompackage\u001b[0m\u001b[1;33m.\u001b[0m\u001b[0mneuron_capacity\u001b[0m \u001b[1;32mimport\u001b[0m \u001b[1;33m*\u001b[0m\u001b[1;33m\u001b[0m\u001b[1;33m\u001b[0m\u001b[0m\n\u001b[0m\u001b[0;32m      5\u001b[0m \u001b[1;32mfrom\u001b[0m \u001b[0mcustompackage\u001b[0m\u001b[1;33m.\u001b[0m\u001b[0msin_ineq\u001b[0m \u001b[1;32mimport\u001b[0m \u001b[1;33m*\u001b[0m\u001b[1;33m\u001b[0m\u001b[1;33m\u001b[0m\u001b[0m\n\u001b[0;32m      6\u001b[0m \u001b[1;33m\u001b[0m\u001b[0m\n",
      "\u001b[1;31mModuleNotFoundError\u001b[0m: No module named 'custompackage.neuron_capacity'"
     ]
    }
   ],
   "source": [
    "\n",
    "\n",
    "from custompackage.load_data import *\n",
    "from custompackage.load_architecture import *\n",
    "from custompackage.traintestloop import *\n",
    "from custompackage.neuron_capacity import *\n",
    "from custompackage.sin_ineq import *\n",
    "\n",
    "import torch\n",
    "from torch.utils.data import DataLoader\n",
    "import torch.optim as optim\n",
    "import torch.nn as nn\n",
    "import numpy as np\n",
    "import math\n",
    "import torchvision\n",
    "from torchvision import transforms\n",
    "from sklearn.discriminant_analysis import LinearDiscriminantAnalysis\n",
    "from sklearn.metrics import classification_report, confusion_matrix\n",
    "from sklearn.svm import SVC\n",
    "from sklearn.linear_model import LogisticRegression\n",
    "from sklearn.naive_bayes import GaussianNB\n",
    "import matplotlib\n",
    "import matplotlib.pyplot as plt\n",
    "from torch.optim.optimizer import required\n",
    "from torch.utils.data.dataset import random_split\n",
    "import scipy\n",
    "import os\n",
    "import glob\n",
    "import pandas as pd\n",
    "from hyperopt import hp, tpe, fmin, Trials\n",
    "import pickle\n",
    "\n",
    "% matplotlib inline"
   ]
  },
  {
   "cell_type": "code",
   "execution_count": 11,
   "metadata": {},
   "outputs": [
    {
     "data": {
      "text/plain": [
       "3"
      ]
     },
     "execution_count": 11,
     "metadata": {},
     "output_type": "execute_result"
    }
   ],
   "source": [
    "torch.cuda.set_device(3)\n",
    "torch.cuda.current_device()"
   ]
  },
  {
   "cell_type": "markdown",
   "metadata": {},
   "source": [
    "# Test out dataloaders to see if they have similar structures"
   ]
  },
  {
   "cell_type": "code",
   "execution_count": 83,
   "metadata": {},
   "outputs": [
    {
     "name": "stderr",
     "output_type": "stream",
     "text": [
      "/home/ilenna/projects/DRNN/custompackage/load_data.py:229: FutureWarning: elementwise comparison failed; returning scalar instead, but in the future will perform elementwise comparison\n",
      "  selector_1 = np.where(label_default.numpy() == Target_class_1)\n",
      "/home/ilenna/projects/DRNN/custompackage/load_data.py:230: FutureWarning: elementwise comparison failed; returning scalar instead, but in the future will perform elementwise comparison\n",
      "  selector_2 = np.where(label_default.numpy() == Target_class_2)\n",
      "/home/ilenna/projects/DRNN/custompackage/load_data.py:240: FutureWarning: elementwise comparison failed; returning scalar instead, but in the future will perform elementwise comparison\n",
      "  label_binary = np.where(label_pair.numpy() == Target_class_1, 1, 0)\n"
     ]
    },
    {
     "ename": "RuntimeError",
     "evalue": "cannot reshape tensor of 0 elements into shape [0, -1] because the unspecified dimension size -1 can be any value and is ambiguous",
     "output_type": "error",
     "traceback": [
      "\u001b[0;31m---------------------------------------------------------------------------\u001b[0m",
      "\u001b[0;31mRuntimeError\u001b[0m                              Traceback (most recent call last)",
      "\u001b[0;32m<ipython-input-83-648d85fde343>\u001b[0m in \u001b[0;36m<module>\u001b[0;34m()\u001b[0m\n\u001b[1;32m      9\u001b[0m \u001b[0;34m\u001b[0m\u001b[0m\n\u001b[1;32m     10\u001b[0m \u001b[0;34m\u001b[0m\u001b[0m\n\u001b[0;32m---> 11\u001b[0;31m \u001b[0mtrainsets\u001b[0m\u001b[0;34m,\u001b[0m \u001b[0mvalidsets\u001b[0m\u001b[0;34m,\u001b[0m \u001b[0mtestset\u001b[0m \u001b[0;34m=\u001b[0m \u001b[0mdataset_weighted_split_all\u001b[0m\u001b[0;34m(\u001b[0m\u001b[0mbs\u001b[0m\u001b[0;34m,\u001b[0m \u001b[0mt1\u001b[0m\u001b[0;34m,\u001b[0m \u001b[0mt2\u001b[0m\u001b[0;34m,\u001b[0m \u001b[0mweighting\u001b[0m\u001b[0;34m,\u001b[0m \u001b[0msplit\u001b[0m\u001b[0;34m,\u001b[0m \u001b[0mds\u001b[0m\u001b[0;34m)\u001b[0m\u001b[0;34m\u001b[0m\u001b[0m\n\u001b[0m",
      "\u001b[0;32m~/projects/DRNN/custompackage/load_data.py\u001b[0m in \u001b[0;36mdataset_weighted_split_all\u001b[0;34m(Batch_size, Target_class_1, Target_class_2, Data_weighting, Split, ds)\u001b[0m\n\u001b[1;32m    676\u001b[0m \u001b[0;34m\u001b[0m\u001b[0m\n\u001b[1;32m    677\u001b[0m     \u001b[0;31m# Assign Binary Labels to target classes\u001b[0m\u001b[0;34m\u001b[0m\u001b[0;34m\u001b[0m\u001b[0m\n\u001b[0;32m--> 678\u001b[0;31m     \u001b[0mTrain_set\u001b[0m \u001b[0;34m=\u001b[0m \u001b[0mformat_data_weighted\u001b[0m\u001b[0;34m(\u001b[0m\u001b[0mTrain_set\u001b[0m\u001b[0;34m,\u001b[0m \u001b[0mTarget_class_1\u001b[0m\u001b[0;34m,\u001b[0m \u001b[0mTarget_class_2\u001b[0m\u001b[0;34m,\u001b[0m \u001b[0mData_weighting\u001b[0m\u001b[0;34m=\u001b[0m\u001b[0mData_weighting\u001b[0m\u001b[0;34m)\u001b[0m\u001b[0;34m\u001b[0m\u001b[0m\n\u001b[0m\u001b[1;32m    679\u001b[0m     \u001b[0mTest_set\u001b[0m  \u001b[0;34m=\u001b[0m \u001b[0mformat_data_weighted\u001b[0m\u001b[0;34m(\u001b[0m\u001b[0mTest_set\u001b[0m\u001b[0;34m,\u001b[0m \u001b[0mTarget_class_1\u001b[0m\u001b[0;34m,\u001b[0m \u001b[0mTarget_class_2\u001b[0m\u001b[0;34m,\u001b[0m \u001b[0mData_weighting\u001b[0m\u001b[0;34m=\u001b[0m\u001b[0mData_weighting\u001b[0m\u001b[0;34m)\u001b[0m\u001b[0;34m\u001b[0m\u001b[0m\n\u001b[1;32m    680\u001b[0m \u001b[0;34m\u001b[0m\u001b[0m\n",
      "\u001b[0;32m~/projects/DRNN/custompackage/load_data.py\u001b[0m in \u001b[0;36mformat_data_weighted\u001b[0;34m(Data_set, Target_class_1, Target_class_2, Data_weighting)\u001b[0m\n\u001b[1;32m    240\u001b[0m         \u001b[0mlabel_binary\u001b[0m \u001b[0;34m=\u001b[0m \u001b[0mnp\u001b[0m\u001b[0;34m.\u001b[0m\u001b[0mwhere\u001b[0m\u001b[0;34m(\u001b[0m\u001b[0mlabel_pair\u001b[0m\u001b[0;34m.\u001b[0m\u001b[0mnumpy\u001b[0m\u001b[0;34m(\u001b[0m\u001b[0;34m)\u001b[0m \u001b[0;34m==\u001b[0m \u001b[0mTarget_class_1\u001b[0m\u001b[0;34m,\u001b[0m \u001b[0;36m1\u001b[0m\u001b[0;34m,\u001b[0m \u001b[0;36m0\u001b[0m\u001b[0;34m)\u001b[0m\u001b[0;34m\u001b[0m\u001b[0m\n\u001b[1;32m    241\u001b[0m         \u001b[0mlabel_binary\u001b[0m \u001b[0;34m=\u001b[0m \u001b[0mtorch\u001b[0m\u001b[0;34m.\u001b[0m\u001b[0mfrom_numpy\u001b[0m\u001b[0;34m(\u001b[0m\u001b[0mlabel_binary\u001b[0m\u001b[0;34m)\u001b[0m\u001b[0;34m.\u001b[0m\u001b[0mlong\u001b[0m\u001b[0;34m(\u001b[0m\u001b[0;34m)\u001b[0m\u001b[0;34m\u001b[0m\u001b[0m\n\u001b[0;32m--> 242\u001b[0;31m         \u001b[0mdata_pair\u001b[0m \u001b[0;34m=\u001b[0m \u001b[0mdata_pair\u001b[0m\u001b[0;34m.\u001b[0m\u001b[0mview\u001b[0m\u001b[0;34m(\u001b[0m\u001b[0mlen\u001b[0m\u001b[0;34m(\u001b[0m\u001b[0mdata_pair\u001b[0m\u001b[0;34m)\u001b[0m\u001b[0;34m,\u001b[0m\u001b[0;34m-\u001b[0m\u001b[0;36m1\u001b[0m\u001b[0;34m)\u001b[0m\u001b[0;34m\u001b[0m\u001b[0m\n\u001b[0m\u001b[1;32m    243\u001b[0m         \u001b[0mData_set_formatted\u001b[0m \u001b[0;34m=\u001b[0m \u001b[0mtorch\u001b[0m\u001b[0;34m.\u001b[0m\u001b[0mutils\u001b[0m\u001b[0;34m.\u001b[0m\u001b[0mdata\u001b[0m\u001b[0;34m.\u001b[0m\u001b[0mTensorDataset\u001b[0m\u001b[0;34m(\u001b[0m\u001b[0mdata_pair\u001b[0m\u001b[0;34m,\u001b[0m \u001b[0mlabel_binary\u001b[0m\u001b[0;34m,\u001b[0m \u001b[0mlabel_pair\u001b[0m\u001b[0;34m)\u001b[0m\u001b[0;34m\u001b[0m\u001b[0m\n\u001b[1;32m    244\u001b[0m     \u001b[0;32melse\u001b[0m\u001b[0;34m:\u001b[0m\u001b[0;34m\u001b[0m\u001b[0m\n",
      "\u001b[0;31mRuntimeError\u001b[0m: cannot reshape tensor of 0 elements into shape [0, -1] because the unspecified dimension size -1 can be any value and is ambiguous"
     ]
    }
   ],
   "source": [
    "bs = 256\n",
    "# t1 = 3\n",
    "# t2 = 5\n",
    "t1 = classes[0][0]\n",
    "t2 = classes[0][1]\n",
    "weighting = 'paired'\n",
    "split = 1\n",
    "ds = 'mnist'\n",
    "\n",
    "\n",
    "trainsets, validsets, testset = dataset_weighted_split_all(bs, t1, t2, weighting, split, ds)"
   ]
  },
  {
   "cell_type": "code",
   "execution_count": 78,
   "metadata": {},
   "outputs": [
    {
     "name": "stdout",
     "output_type": "stream",
     "text": [
      "torch.Size([10000, 784])\n",
      "torch.Size([2000, 784])\n",
      "tensor([1, 0, 0])\n"
     ]
    },
    {
     "data": {
      "text/plain": [
       "<matplotlib.image.AxesImage at 0x7f41101d4a20>"
      ]
     },
     "execution_count": 78,
     "metadata": {},
     "output_type": "execute_result"
    },
    {
     "data": {
      "image/png": "[encoded data removed]",
      "text/plain": [
       "<Figure size 432x288 with 3 Axes>"
      ]
     },
     "metadata": {
      "needs_background": "light"
     },
     "output_type": "display_data"
    }
   ],
   "source": [
    "trainset = trainsets[0]\n",
    "print(trainset.dataset.tensors[0].shape)\n",
    "validset = validsets[0]\n",
    "print(validset.dataset.tensors[0].shape)\n",
    "i = 0\n",
    "print(trainset.dataset.tensors[1][i:i+3])\n",
    "\n",
    "fig = plt.figure()\n",
    "axes = []\n",
    "axes.append(fig.add_subplot(1,3,1))\n",
    "axes[0].imshow(trainset.dataset.tensors[0][i].view(28,-1), cmap='gray')\n",
    "axes.append(fig.add_subplot(1,3,2))\n",
    "axes[1].imshow(trainset.dataset.tensors[0][i+1].view(28,-1), cmap='gray')\n",
    "axes.append(fig.add_subplot(1,3,3))\n",
    "axes[2].imshow(trainset.dataset.tensors[0][i+2].view(28,-1), cmap='gray')"
   ]
  },
  {
   "cell_type": "markdown",
   "metadata": {},
   "source": [
    "# Adjust k_tree code to be more general and applicable to all datasets"
   ]
  },
  {
   "cell_type": "code",
   "execution_count": 105,
   "metadata": {},
   "outputs": [
    {
     "data": {
      "text/plain": [
       "tensor([[0.4576]], device='cuda:3', grad_fn=<SigmoidBackward>)"
      ]
     },
     "execution_count": 105,
     "metadata": {},
     "output_type": "execute_result"
    }
   ],
   "source": [
    "class ktree_gen(nn.Module):\n",
    "    '''\n",
    "    Tree NN\n",
    "    '''\n",
    "    \n",
    "    def __init__(self, ds='mnist', Activation=\"relu\", Sparse=True,\n",
    "                 Input_order=None, Repeats=1):\n",
    "        super(ktree_gen, self).__init__()\n",
    "        '''\n",
    "        Inputs: Input_size, Hidden_size, Output_size\n",
    "        '''\n",
    "        # Initialize architecture parameters\n",
    "        self.ds = ds\n",
    "        self.Activation = Activation\n",
    "        self.Sparse = Sparse\n",
    "        self.Input_order = Input_order\n",
    "        self.Repeats = Repeats\n",
    "        \n",
    "        # Initialize weights\n",
    "        # Set biases to 0\n",
    "        # Set kaiming initialize weights with gain to correct for sparsity\n",
    "        # Set freeze masks\n",
    "        \n",
    "        #Specify tree dimensions\n",
    "        if (ds == 'mnist') or (ds == 'fmnist') or (ds == 'kmnist') or (ds == 'emnist'):\n",
    "            self.k = [784, 112, 16, 8, 4, 2, 1]\n",
    "        elif (ds == 'svhn') or (ds == 'cifar10'):\n",
    "            self.k = [3072, 1024, 512, 256, 128, 64, 32, 16, 8, 4, 2, 1]\n",
    "        elif ds == 'usps':\n",
    "            self.k = [256, 128, 64, 32, 16, 8, 4, 2, 1]\n",
    "        else:\n",
    "            print('Select a dataset')\n",
    "            return(None)\n",
    "        \n",
    "        \n",
    "        self.names = np.empty((self.Repeats, len(self.k)-1),dtype=object)\n",
    "        self.freeze_mask_set = []\n",
    "        for j in range(self.Repeats):\n",
    "            for i in range(len(self.k)-1):\n",
    "                name = ''.join(['w',str(j),'_',str(i)])\n",
    "                self.add_module(name, nn.Linear(self.k[i],self.k[i+1]))\n",
    "                self._modules[name].bias = nn.Parameter(torch.zeros_like(self._modules[name].bias)) \n",
    "                self._modules[name].weight.data, freeze_mask = self.initialize(self._modules[name])\n",
    "                self.names[j,i] = name\n",
    "                if j < 1:\n",
    "                    self.freeze_mask_set.append(freeze_mask)\n",
    "        \n",
    "        self.root = nn.Linear(Repeats, 1)\n",
    "        \n",
    "        # Initialize nonlinearities\n",
    "        self.relu = nn.LeakyReLU()\n",
    "        self.sigmoid = nn.Sigmoid()\n",
    "    \n",
    "    def forward(self, x):\n",
    "        '''\n",
    "        Forward step for network. Establishes Architecture.\n",
    "        Inputs: Input, Hidden\n",
    "        Outputs: Output, Hidden\n",
    "        '''\n",
    "        \n",
    "        y_out = []\n",
    "        for j in range(self.Repeats):\n",
    "            y = x\n",
    "            for i in range(len(self.k)-1):\n",
    "                if self.Activation == 'relu':\n",
    "                    y = self.relu(self._modules[self.names[j,i]](y))\n",
    "                else:\n",
    "                    y = self._modules[self.names[j,i]](y)\n",
    "            y_out.append(y)\n",
    "\n",
    "        output = self.sigmoid(self.root(torch.cat((y_out), dim=1)))\n",
    "\n",
    "        return(output)\n",
    "    \n",
    "    def initialize(self, layer):\n",
    "        # Kaiming initialize weights accounting for sparsity\n",
    "        weights = layer.weight.data\n",
    "        if self.Sparse:\n",
    "            if weights.shape[1] == 3072:\n",
    "                inp_block = torch.ones((1,3))\n",
    "            elif (weights.shape[1] == 784) or (weights.shape[1] == 112):\n",
    "                inp_block = torch.ones((1,7))\n",
    "            else:\n",
    "                inp_block = torch.ones((1,2))\n",
    "            inp_mask = kronecker(torch.eye(weights.shape[0]), inp_block)\n",
    "\n",
    "            density = len(np.where(inp_mask)[0])/len(inp_mask.reshape(-1))\n",
    "\n",
    "            # Generate Kaiming initialization with gain = 1/density\n",
    "            weights = torch.nn.init.normal_(weights, mean=0.0, std=math.sqrt(2/(weights.shape[1]*density)))\n",
    "\n",
    "            weights[inp_mask == 0] = 0\n",
    "        else:\n",
    "            weights = torch.nn.init.normal_(weights, mean=0.0, std=math.sqrt(2/(weights.shape[1])))\n",
    "        \n",
    "        mask_gen = torch.zeros_like(weights)\n",
    "        freeze_mask = mask_gen == weights\n",
    "        \n",
    "        return(weights, freeze_mask)\n",
    "    \n",
    "    \n",
    "model = ktree_gen(ds='svhn',Repeats=2).cuda()\n",
    "\n",
    "a = torch.ones((1,3072)).cuda()\n",
    "model(a)\n",
    "\n"
   ]
  },
  {
   "cell_type": "markdown",
   "metadata": {},
   "source": [
    "# Scripts for LDA"
   ]
  },
  {
   "cell_type": "code",
   "execution_count": null,
   "metadata": {},
   "outputs": [],
   "source": [
    "# bs = 256\n",
    "# weighting = 'paired'\n",
    "# trials = 10\n",
    "# ds_set = ['mnist', 'fmnist', 'kmnist','emnist','svhn','usps']\n",
    "\n",
    "\n",
    "# paired_test = np.zeros((len(ds_set),10,10))\n",
    "# for k, ds in enumerate(ds_set):\n",
    "#     for i in range(10):\n",
    "#         t1 = i\n",
    "#         for j in range(i+1,10):\n",
    "#             t2 = j\n",
    "\n",
    "#             trainloaders, validloaders, testloader = dataset_weighted_split_all(bs, t1, t2, weighting, trials, ds)\n",
    "\n",
    "#             X_train = trainloaders[0].dataset.tensors[0]\n",
    "#             y_train = trainloaders[0].dataset.tensors[1]\n",
    "#             X_test = testloader.dataset.tensors[0]\n",
    "#             y_test = testloader.dataset.tensors[1]\n",
    "\n",
    "\n",
    "#             # initialize lda\n",
    "#             lda = LinearDiscriminantAnalysis()\n",
    "\n",
    "#             # fit to images, labels\n",
    "#             lda.fit(X_train, y_train)\n",
    "\n",
    "#             # see accuracy for validation set\n",
    "#             score_test = lda.score(X_test, y_test)\n",
    "\n",
    "#             print(ds, i, j, score_test)\n",
    "\n",
    "#             paired_test[k,i,j] = score_test\n",
    "            \n",
    "#             np.save('./results/20200324/confused_pairs.npy', paired_test)"
   ]
  },
  {
   "cell_type": "code",
   "execution_count": null,
   "metadata": {},
   "outputs": [],
   "source": [
    "# # Uppercase Letters\n",
    "\n",
    "# bs = 256\n",
    "# weighting = 'paired'\n",
    "# trials = 10\n",
    "# ds_set = ['emnist']\n",
    "\n",
    "\n",
    "# paired_test = np.zeros((len(ds_set),10,10))\n",
    "# for k, ds in enumerate(ds_set):\n",
    "#     for i in range(10, 36):\n",
    "#         t1 = i\n",
    "#         for j in range(i+1,36):\n",
    "#             t2 = j\n",
    "\n",
    "#             trainloaders, validloaders, testloader = dataset_weighted_split_all(bs, t1, t2, weighting, trials, ds)\n",
    "\n",
    "#             X_train = trainloaders[0].dataset.tensors[0]\n",
    "#             y_train = trainloaders[0].dataset.tensors[1]\n",
    "#             X_test = testloader.dataset.tensors[0]\n",
    "#             y_test = testloader.dataset.tensors[1]\n",
    "\n",
    "\n",
    "#             # initialize lda\n",
    "#             lda = LinearDiscriminantAnalysis()\n",
    "\n",
    "#             # fit to images, labels\n",
    "#             lda.fit(X_train, y_train)\n",
    "\n",
    "#             # see accuracy for validation set\n",
    "#             score_test = lda.score(X_test, y_test)\n",
    "\n",
    "#             print(ds, i, j, score_test)\n",
    "\n",
    "#             paired_test[k,i,j] = score_test\n",
    "            \n",
    "#             np.save('./results/20200324/confused_pairs_emnist_upper.npy', paired_test)"
   ]
  },
  {
   "cell_type": "markdown",
   "metadata": {},
   "source": [
    "# Determine confused pairs"
   ]
  },
  {
   "cell_type": "code",
   "execution_count": null,
   "metadata": {},
   "outputs": [],
   "source": [
    "paired_test = np.load('./results/20200324/confused_pairs.npy')\n",
    "\n",
    "ds_set = ['mnist', 'fmnist', 'kmnist','emnist','svhn','usps']\n",
    "\n",
    "\n",
    "classes = []\n",
    "for i, ds in enumerate(ds_set):\n",
    "    focus = paired_test[i]\n",
    "\n",
    "    a = np.min(focus[np.nonzero(focus)])\n",
    "    c = np.where(focus == a)\n",
    "\n",
    "    classes.append([c[0][0], c[1][0], ds])\n",
    "\n",
    "classes = np.array(classes, dtype=object)\n",
    "# np.save('./results/20200324/classes.npy', classes, allow_pickle=True)"
   ]
  },
  {
   "cell_type": "code",
   "execution_count": 173,
   "metadata": {},
   "outputs": [
    {
     "name": "stdout",
     "output_type": "stream",
     "text": [
      "[[14 17 'emnist']]\n",
      "0.5517492711370262\n",
      "0.5517492711370262\n",
      "[[3 5 'mnist']\n",
      " [4 6 'fmnist']\n",
      " [4 9 'kmnist']\n",
      " [3 5 'emnist']\n",
      " [6 7 'svhn']\n",
      " [0 1 'usps']]\n",
      "[14 17 'emnist']\n"
     ]
    },
    {
     "data": {
      "image/png": "[encoded data removed]",
      "text/plain": [
       "<Figure size 432x288 with 1 Axes>"
      ]
     },
     "metadata": {
      "needs_background": "light"
     },
     "output_type": "display_data"
    }
   ],
   "source": [
    "# paired_test = np.load('./results/20200324/confused_pairs_emnist_upper.npy')\n",
    "\n",
    "# ds_set = ['emnist']\n",
    "\n",
    "\n",
    "# classes = []\n",
    "# for i, ds in enumerate(ds_set):\n",
    "#     focus = paired_test[i]\n",
    "\n",
    "#     a = np.min(focus[np.nonzero(focus)])\n",
    "#     c = np.where(focus == a)\n",
    "\n",
    "#     classes.append([c[0][0]+10, c[1][0]+10, ds])\n",
    "\n",
    "# classes = np.array(classes, dtype=object)\n",
    "\n",
    "# print(classes)\n",
    "# print(a)\n",
    "# print(focus[classes[0][0]-10,classes[0][1]-10])\n",
    "# plt.imshow(trainsets[0].dataset.tensors[0][9].view(-1,28).t())\n",
    "# class_orig = np.load('./results/20200324/classes.npy', allow_pickle=True)\n",
    "# print(class_orig)\n",
    "# print(classes[0])\n",
    "\n",
    "# intermed = np.concatenate((class_orig, classes), 0)\n",
    "# np.save('./results/20200324/classes_emnist.npy', intermed, allow_pickle=True)\n",
    "# # np.save('./results/20200324/classes.npy', classes, allow_pickle=True)\n",
    "\n"
   ]
  },
  {
   "cell_type": "code",
   "execution_count": 6,
   "metadata": {},
   "outputs": [
    {
     "name": "stdout",
     "output_type": "stream",
     "text": [
      "[[3 5 'mnist' 0.8769716088328076 0 4 0.971967380224261]\n",
      " [4 6 'fmnist' 0.658 1 7 0.967]\n",
      " [4 9 'kmnist' 0.669 0 1 0.8565]\n",
      " [3 5 'emnist' 0.955910027780267 6 9 0.9933280660170309]\n",
      " [6 7 'svhn' 0.5057557557557557 1 9 0.6596952494771438]\n",
      " [0 1 'usps' 0.7961476725521669 0 7 0.9802371541501976]]\n"
     ]
    }
   ],
   "source": [
    "# paired_test = np.load('./results/20200324/confused_pairs.npy')\n",
    "paired_test = np.load('./results/20200509/confused_pairs.npy')\n",
    "\n",
    "\n",
    "ds_set = ['mnist', 'fmnist', 'kmnist','emnist','svhn','usps']\n",
    "\n",
    "\n",
    "classes = []\n",
    "\n",
    "paired_test\n",
    "for i, ds in enumerate(ds_set):\n",
    "    focus = paired_test[i]\n",
    "\n",
    "    a = np.min(focus[np.nonzero(focus)])\n",
    "    b = np.sort(focus[np.nonzero(focus)])\n",
    "    e = b[len(b)-2]\n",
    "    c = np.where(focus == a)\n",
    "    d = np.where(focus == e)\n",
    "\n",
    "    classes.append([c[0][0], c[1][0], ds, a, d[0][0], d[1][0], e])\n",
    "\n",
    "classes = np.array(classes, dtype=object)\n",
    "\n",
    "print(classes)\n",
    "# np.save('./results/20200324/classes_perf.npy', classes, allow_pickle=True)\n",
    "\n",
    "# print(classes)"
   ]
  },
  {
   "cell_type": "code",
   "execution_count": 16,
   "metadata": {},
   "outputs": [
    {
     "name": "stdout",
     "output_type": "stream",
     "text": [
      "0.5517492711370262\n",
      "[[14 17 'emnist' 0.5517492711370262 21 24 0.9838904550946436]]\n",
      "0.5517492711370262\n",
      "0.5517492711370262\n"
     ]
    },
    {
     "ename": "NameError",
     "evalue": "name 'trainsets' is not defined",
     "output_type": "error",
     "traceback": [
      "\u001b[0;31m---------------------------------------------------------------------------\u001b[0m",
      "\u001b[0;31mNameError\u001b[0m                                 Traceback (most recent call last)",
      "\u001b[0;32m<ipython-input-16-1c576dcab0e3>\u001b[0m in \u001b[0;36m<module>\u001b[0;34m()\u001b[0m\n\u001b[1;32m     22\u001b[0m \u001b[0mprint\u001b[0m\u001b[0;34m(\u001b[0m\u001b[0ma\u001b[0m\u001b[0;34m)\u001b[0m\u001b[0;34m\u001b[0m\u001b[0m\n\u001b[1;32m     23\u001b[0m \u001b[0mprint\u001b[0m\u001b[0;34m(\u001b[0m\u001b[0mfocus\u001b[0m\u001b[0;34m[\u001b[0m\u001b[0mclasses\u001b[0m\u001b[0;34m[\u001b[0m\u001b[0;36m0\u001b[0m\u001b[0;34m]\u001b[0m\u001b[0;34m[\u001b[0m\u001b[0;36m0\u001b[0m\u001b[0;34m]\u001b[0m\u001b[0;34m-\u001b[0m\u001b[0;36m10\u001b[0m\u001b[0;34m,\u001b[0m\u001b[0mclasses\u001b[0m\u001b[0;34m[\u001b[0m\u001b[0;36m0\u001b[0m\u001b[0;34m]\u001b[0m\u001b[0;34m[\u001b[0m\u001b[0;36m1\u001b[0m\u001b[0;34m]\u001b[0m\u001b[0;34m-\u001b[0m\u001b[0;36m10\u001b[0m\u001b[0;34m]\u001b[0m\u001b[0;34m)\u001b[0m\u001b[0;34m\u001b[0m\u001b[0m\n\u001b[0;32m---> 24\u001b[0;31m \u001b[0mplt\u001b[0m\u001b[0;34m.\u001b[0m\u001b[0mimshow\u001b[0m\u001b[0;34m(\u001b[0m\u001b[0mtrainsets\u001b[0m\u001b[0;34m[\u001b[0m\u001b[0;36m0\u001b[0m\u001b[0;34m]\u001b[0m\u001b[0;34m.\u001b[0m\u001b[0mdataset\u001b[0m\u001b[0;34m.\u001b[0m\u001b[0mtensors\u001b[0m\u001b[0;34m[\u001b[0m\u001b[0;36m0\u001b[0m\u001b[0;34m]\u001b[0m\u001b[0;34m[\u001b[0m\u001b[0;36m9\u001b[0m\u001b[0;34m]\u001b[0m\u001b[0;34m.\u001b[0m\u001b[0mview\u001b[0m\u001b[0;34m(\u001b[0m\u001b[0;34m-\u001b[0m\u001b[0;36m1\u001b[0m\u001b[0;34m,\u001b[0m\u001b[0;36m28\u001b[0m\u001b[0;34m)\u001b[0m\u001b[0;34m.\u001b[0m\u001b[0mt\u001b[0m\u001b[0;34m(\u001b[0m\u001b[0;34m)\u001b[0m\u001b[0;34m)\u001b[0m\u001b[0;34m\u001b[0m\u001b[0m\n\u001b[0m\u001b[1;32m     25\u001b[0m \u001b[0;31m# class_orig = np.load('./results/20200324/classes.npy', allow_pickle=True)\u001b[0m\u001b[0;34m\u001b[0m\u001b[0;34m\u001b[0m\u001b[0m\n\u001b[1;32m     26\u001b[0m \u001b[0;31m# print(class_orig)\u001b[0m\u001b[0;34m\u001b[0m\u001b[0;34m\u001b[0m\u001b[0m\n",
      "\u001b[0;31mNameError\u001b[0m: name 'trainsets' is not defined"
     ]
    }
   ],
   "source": [
    "paired_test = np.load('./results/20200324/confused_pairs_emnist_upper.npy')\n",
    "\n",
    "ds_set = ['emnist']\n",
    "\n",
    "\n",
    "classes = []\n",
    "for i, ds in enumerate(ds_set):\n",
    "    focus = paired_test[i]\n",
    "\n",
    "    a = np.min(focus[np.nonzero(focus)])\n",
    "    print(a)\n",
    "    b = np.sort(focus[np.nonzero(focus)])\n",
    "    e = b[len(b)-2]\n",
    "    c = np.where(focus == a)\n",
    "    d = np.where(focus == e)\n",
    "    \n",
    "    classes.append([c[0][0]+10, c[1][0]+10, ds, a, d[0][0]+10, d[1][0]+10, e ])\n",
    "\n",
    "classes = np.array(classes, dtype=object)\n",
    "\n",
    "print(classes)\n",
    "print(a)\n",
    "print(focus[classes[0][0]-10,classes[0][1]-10])\n",
    "# plt.imshow(trainsets[0].dataset.tensors[0][9].view(-1,28).t())\n",
    "# class_orig = np.load('./results/20200324/classes.npy', allow_pickle=True)\n",
    "# print(class_orig)\n",
    "# print(classes[0])\n",
    "\n",
    "# intermed = np.concatenate((class_orig, classes), 0)\n",
    "# np.save('./results/20200324/classes_emnist_perf.npy', intermed, allow_pickle=True)\n",
    "# np.save('./results/20200324/classes.npy', classes, allow_pickle=True)\n"
   ]
  },
  {
   "cell_type": "code",
   "execution_count": 8,
   "metadata": {},
   "outputs": [
    {
     "name": "stdout",
     "output_type": "stream",
     "text": [
      "0.5455\n",
      "[[3 5 'cifar10' 0.5455 0 6 0.781]]\n"
     ]
    }
   ],
   "source": [
    "paired_test = np.load('./results/20200509/confused_pairs_cifar10.npy')\n",
    "\n",
    "ds_set = ['cifar10']\n",
    "\n",
    "\n",
    "classes = []\n",
    "for i, ds in enumerate(ds_set):\n",
    "    focus = paired_test[i]\n",
    "\n",
    "    a = np.min(focus[np.nonzero(focus)])\n",
    "    print(a)\n",
    "    b = np.sort(focus[np.nonzero(focus)])\n",
    "    e = b[len(b)-2]\n",
    "    c = np.where(focus == a)\n",
    "    d = np.where(focus == e)\n",
    "    \n",
    "    classes.append([c[0][0], c[1][0], ds, a, d[0][0], d[1][0], e ])\n",
    "\n",
    "classes = np.array(classes, dtype=object)\n",
    "\n",
    "print(classes)"
   ]
  },
  {
   "cell_type": "code",
   "execution_count": 67,
   "metadata": {},
   "outputs": [
    {
     "name": "stdout",
     "output_type": "stream",
     "text": [
      "(6, 10, 10, 10)\n",
      "[[3 5 'mnist' 0.8772344900105151 0 4 0.9688073394495413]\n",
      " [0 6 'fmnist' 0.67095 2 9 0.9676]\n",
      " [2 6 'kmnist' 0.68395 0 1 0.86295]\n",
      " [5 6 'svhn' 0.5153634487502866 1 9 0.6535255452644159]\n",
      " [3 5 'usps' 0.8429447852760736 0 9 0.9570895522388059]\n",
      " [3 5 'cifar10' 0.5216999999999998 6 8 0.749]]\n"
     ]
    }
   ],
   "source": [
    "paired_test = np.load('./results/20200509/confused_pairs_all.npy')\n",
    "\n",
    "print(paired_test.shape)\n",
    "\n",
    "ds = 0\n",
    "pt_mean = np.mean(paired_test, axis=1)\n",
    "\n",
    "ds_set = ['mnist', 'fmnist', 'kmnist','svhn','usps', 'cifar10']\n",
    "\n",
    "\n",
    "classes = []\n",
    "\n",
    "paired_test\n",
    "for i, ds in enumerate(ds_set):\n",
    "    focus = pt_mean[i]\n",
    "\n",
    "    a = np.min(focus[np.nonzero(focus)])\n",
    "    b = np.sort(focus[np.nonzero(focus)])\n",
    "    e = b[len(b)-2]\n",
    "    c = np.where(focus == a)\n",
    "    d = np.where(focus == e)\n",
    "\n",
    "    classes.append([c[0][0], c[1][0], ds, a, d[0][0], d[1][0], e])\n",
    "\n",
    "classes = np.array(classes, dtype=object)\n",
    "\n",
    "print(classes)\n",
    "# np.save('./results/20200511/classes.npy', classes[:,:3], allow_pickle=True)\n",
    "\n",
    "# np.load('./results/20200511/classes.npy', allow_pickle=True)\n"
   ]
  },
  {
   "cell_type": "code",
   "execution_count": null,
   "metadata": {},
   "outputs": [],
   "source": []
  },
  {
   "cell_type": "code",
   "execution_count": 63,
   "metadata": {},
   "outputs": [
    {
     "name": "stdout",
     "output_type": "stream",
     "text": [
      "0.5707725947521867\n",
      "[[14 17 'emnist' 0.5707725947521867 21 24 0.9814941602899717]]\n",
      "(6, 3) (1, 3)\n",
      "[[3 5 'mnist']\n",
      " [0 6 'fmnist']\n",
      " [2 6 'kmnist']\n",
      " [5 6 'svhn']\n",
      " [3 5 'usps']\n",
      " [3 5 'cifar10']\n",
      " [14 17 'emnist']]\n",
      "[[5 6 'svhn']\n",
      " [3 5 'usps']\n",
      " [3 5 'cifar10']]\n",
      "[14 17 'emnist']\n",
      "[[3 5 'mnist']\n",
      " [0 6 'fmnist']\n",
      " [2 6 'kmnist']\n",
      " [14 17 'emnist']\n",
      " [5 6 'svhn']\n",
      " [3 5 'usps']\n",
      " [3 5 'cifar10']]\n"
     ]
    }
   ],
   "source": [
    "paired_test = np.load('./results/20200509/confused_pairs_emnist_upper.npy')\n",
    "paired_test.shape\n",
    "\n",
    "pt_mean = np.mean(paired_test, axis=1)\n",
    "\n",
    "ds_set = ['emnist']\n",
    "classes = []\n",
    "for i, ds in enumerate(ds_set):\n",
    "    focus = pt_mean[i]\n",
    "\n",
    "    a = np.min(focus[np.nonzero(focus)])\n",
    "    print(a)\n",
    "    b = np.sort(focus[np.nonzero(focus)])\n",
    "    e = b[len(b)-2]\n",
    "    c = np.where(focus == a)\n",
    "    d = np.where(focus == e)\n",
    "    \n",
    "    classes.append([c[0][0]+10, c[1][0]+10, ds, a, d[0][0]+10, d[1][0]+10, e ])\n",
    "\n",
    "classes = np.array(classes, dtype=object)\n",
    "\n",
    ")\n",
    "# intermed = np.concatenate((class_orig, classes), 0)\n",
    "# np.save('./results/20200511/classes_emnist_perf.npy', intermed, allow_pickle=True)\n",
    "# np.save('./results/20200511/classes.npy', classes, allow_pickle=True)\n"
   ]
  },
  {
   "cell_type": "code",
   "execution_count": 66,
   "metadata": {},
   "outputs": [
    {
     "name": "stdout",
     "output_type": "stream",
     "text": [
      "[[14 17 'emnist' 0.5707725947521867 21 24 0.9814941602899717]]\n",
      "(6, 3) (1, 3)\n",
      "[[3 5 'mnist']\n",
      " [0 6 'fmnist']\n",
      " [2 6 'kmnist']\n",
      " [14 17 'emnist']\n",
      " [5 6 'svhn']\n",
      " [3 5 'usps']\n",
      " [3 5 'cifar10']]\n"
     ]
    }
   ],
   "source": [
    "# print(classes)\n",
    "# classes_orig = np.load('./results/20200511/classes.npy', allow_pickle=True)\n",
    "# print(classes_orig.shape, classes[:,:3].shape)\n",
    "# classes_orig = np.concatenate((classes_orig,classes[:,:3]),0)\n",
    "# a = classes_orig[3:6].copy()\n",
    "# b = classes_orig[6].copy()\n",
    "# classes_orig[3] = b\n",
    "# classes_orig[4:] = a\n",
    "\n",
    "# print(classes_orig)\n",
    "# # np.save('./results/20200511/classes.npy', classes_orig, allow_pickle=True)"
   ]
  },
  {
   "cell_type": "code",
   "execution_count": 14,
   "metadata": {},
   "outputs": [
    {
     "name": "stdout",
     "output_type": "stream",
     "text": [
      "[[3 5 'mnist']\n",
      " [4 6 'fmnist']\n",
      " [4 9 'kmnist']\n",
      " [14 17 'emnist']\n",
      " [6 7 'svhn']\n",
      " [0 1 'usps']\n",
      " [2 3 'cifar10']]\n",
      "[[3 5 'mnist']\n",
      " [4 6 'fmnist']\n",
      " [4 9 'kmnist']\n",
      " [14 17 'emnist']\n",
      " [6 7 'svhn']\n",
      " [0 1 'usps']\n",
      " [2 3 'cifar10']]\n"
     ]
    }
   ],
   "source": [
    "classes = np.load('./results/20200324/classes_emnist.npy', allow_pickle=True)\n",
    "classes[3] = classes[6]\n",
    "classes[6] = [2, 3, 'cifar10']\n",
    "classes = classes[0:7]\n",
    "\n",
    "print(classes)\n",
    "\n",
    "# np.save('./results/20200504/classes.npy', classes, allow_pickle=True)\n",
    "classes = np.load('./results/20200504/classes.npy', allow_pickle=True)\n",
    "print(classes)"
   ]
  },
  {
   "cell_type": "code",
   "execution_count": 116,
   "metadata": {},
   "outputs": [
    {
     "name": "stdout",
     "output_type": "stream",
     "text": [
      "(6, 10, 10, 10)\n"
     ]
    },
    {
     "data": {
      "text/plain": [
       "array([3, 5])"
      ]
     },
     "execution_count": 116,
     "metadata": {},
     "output_type": "execute_result"
    }
   ],
   "source": [
    "paired_test = np.load('./results/20200509/confused_pairs_all.npy')\n",
    "\n",
    "print(paired_test.shape)\n",
    "\n",
    "ds = 0\n",
    "pt_mean = np.mean(paired_test, axis=1)\n",
    "\n",
    "ds_set = ['mnist', 'fmnist', 'kmnist','svhn','usps', 'cifar10']\n",
    "\n",
    "\n",
    "classes = []\n",
    "\n",
    "paired_test\n",
    "for i, ds in enumerate(ds_set):\n",
    "    focus = pt_mean[i]\n",
    "\n",
    "    a = np.min(focus[np.nonzero(focus)])\n",
    "    mean_sorted = np.sort(focus[np.nonzero(focus)])\n",
    "    \n",
    "    minperfs = []\n",
    "    minclass = []\n",
    "    for j in range(5):\n",
    "        minperfs.append(mean_sorted[j])\n",
    "    \n",
    "    for k in range(5):\n",
    "        g = np.where(focus == minperfs[k])\n",
    "        minclass.append(np.array([g[0][0], g[1][0]]))\n",
    "    e = b[len(b)-2]\n",
    "    f = b[len(b)-1]\n",
    "    c = np.where(focus == a)\n",
    "    d = np.where(focus == e)\n",
    "    \n",
    "    classes_interm = []\n",
    "    for m in range(5):\n",
    "        classes_interm.append([minclass[m], minperfs[m]])\n",
    "    classes.append([ds, np.array(classes_interm)])\n",
    "\n",
    "classes = np.array(classes, dtype=object)\n",
    "\n",
    "rank = 0\n",
    "ds_idx = 0\n",
    "classes[ds_idx][1][rank][0]\n",
    "# print(classes)\n",
    "# np.save('./results/20200511/classes.npy', classes[:,:3], allow_pickle=True)\n",
    "\n",
    "# np.load('./results/20200511/classes.npy', allow_pickle=True)\n"
   ]
  },
  {
   "cell_type": "code",
   "execution_count": 126,
   "metadata": {},
   "outputs": [],
   "source": [
    "bs = 256\n",
    "# t1 = 3\n",
    "# t2 = 5\n",
    "i = 3\n",
    "t1 = classes[i][0]\n",
    "t2 = classes[i][1]\n",
    "weighting = 'paired'\n",
    "split = 1\n",
    "ds = classes[i][2]\n",
    "\n",
    "\n",
    "trainsets, validsets, testset = dataset_weighted_split_all(bs, t1, t2, weighting, split, ds)"
   ]
  },
  {
   "cell_type": "code",
   "execution_count": 130,
   "metadata": {},
   "outputs": [
    {
     "data": {
      "text/plain": [
       "<matplotlib.image.AxesImage at 0x7f4c2525cb70>"
      ]
     },
     "execution_count": 130,
     "metadata": {},
     "output_type": "execute_result"
    },
    {
     "data": {
      "image/png": "[encoded data removed]",
      "text/plain": [
       "<Figure size 432x288 with 1 Axes>"
      ]
     },
     "metadata": {
      "needs_background": "light"
     },
     "output_type": "display_data"
    }
   ],
   "source": [
    "trainset = trainsets[0]\n",
    "a = trainset.dataset.tensors[0][2]\n",
    "\n",
    "plt.imshow(a.reshape(-1,28))"
   ]
  },
  {
   "cell_type": "markdown",
   "metadata": {},
   "source": [
    "# Script to run through multitrees, will be used for pairs of datasets\n",
    "\n",
    "Return to this after adjusting ktree architecture"
   ]
  },
  {
   "cell_type": "code",
   "execution_count": null,
   "metadata": {},
   "outputs": [],
   "source": [
    "# Select Class Set\n",
    "class_set = 0\n",
    "\n",
    "# Initialize settings\n",
    "bs = 256\n",
    "weighting = 'paired'\n",
    "trials = 10\n",
    "epochs = 5000\n",
    "trees_set = [1,2,4,8,16,32]\n",
    "\n",
    "classes = np.load('./results/20200324/classes.npy', allow_pickle=True)\n",
    "\n",
    "if class_set == 0:\n",
    "    classes = classes[0:2] # mnist fmnist\n",
    "elif class_set == 1:\n",
    "    classes = classes[2:4] # kmnist emnist\n",
    "else:\n",
    "    classes = classes[4:6] # svhn usps\n",
    "\n",
    "\n",
    "\n",
    "loss = np.zeros((len(classes), trials, len(trees_set)))\n",
    "acc = np.zeros((len(classes), trials, len(trees_set)))\n",
    "\n",
    "    \n",
    "for j, (t1, t2, ds) in enumerate(classes):\n",
    "    print(t1, t2, ds)\n",
    "    trainloaders, validloaders, testloader = dataset_weighted_split_all(bs, t1, t2, weighting, trials, ds)\n",
    "    for i in range(trials):\n",
    "        for k, trees in enumerate(trees_set):\n",
    "            print(j, i, k)\n",
    "            model = ktree_gen(ds=ds, Repeats=trees).cuda()\n",
    "\n",
    "            loss_curve, acc_curve, loss[j,i,k], acc[j,i,k], model_t = train_test_ktree(model, trainloaders[i],\n",
    "                                                                                  testloader, epochs = 5000)\n",
    "\n",
    "            np.save('./results/20200325/k_tree_acc_'+str(class_set)+'.npy', acc)\n",
    "            np.save('./results/20200325/k_tree_loss_'+str(class_set)+'.npy', loss)\n"
   ]
  },
  {
   "cell_type": "code",
   "execution_count": 110,
   "metadata": {},
   "outputs": [
    {
     "data": {
      "text/plain": [
       "[<matplotlib.lines.Line2D at 0x7f4c2dd681d0>]"
      ]
     },
     "execution_count": 110,
     "metadata": {},
     "output_type": "execute_result"
    },
    {
     "data": {
      "image/png": "[encoded data removed]",
      "text/plain": [
       "<Figure size 432x288 with 1 Axes>"
      ]
     },
     "metadata": {
      "needs_background": "light"
     },
     "output_type": "display_data"
    }
   ],
   "source": [
    "len(loss_curve)\n",
    "plt.plot(loss_curve)"
   ]
  },
  {
   "cell_type": "markdown",
   "metadata": {},
   "source": [
    "# Linear control"
   ]
  },
  {
   "cell_type": "code",
   "execution_count": null,
   "metadata": {},
   "outputs": [],
   "source": [
    "# Initialize settings\n",
    "trials = 10\n",
    "\n",
    "classes = np.load('./results/20200324/classes.npy', allow_pickle=True)\n",
    "\n",
    "score_test[j,i] = np.zeros((len(classes), trials))\n",
    "\n",
    "    \n",
    "for j, (t1, t2, ds) in enumerate(classes):\n",
    "    print(t1, t2, ds)\n",
    "    trainloaders, validloaders, testloader = dataset_weighted_split_all(bs, t1, t2, weighting, trials, ds)\n",
    "    for i in range(trials):\n",
    "        print(j, i)\n",
    "        X_train = trainloaders[i].dataset.tensors[0]\n",
    "        y_train = trainloaders[i].dataset.tensors[1]\n",
    "        X_test = testloader.dataset.tensors[0]\n",
    "        y_test = testloader.dataset.tensors[1]\n",
    "\n",
    "        # initialize lda\n",
    "        lda = LinearDiscriminantAnalysis()\n",
    "\n",
    "        # fit to images, labels\n",
    "        lda.fit(X_train, y_train)\n",
    "\n",
    "        # see accuracy for validation set\n",
    "        score_test[j,i] = lda.score(X_test, y_test)\n",
    "        print(score_test[j,i])\n",
    "\n",
    "        np.save('./results/20200325/lda_score_test.npy', score_test)\n"
   ]
  },
  {
   "cell_type": "code",
   "execution_count": 185,
   "metadata": {},
   "outputs": [
    {
     "name": "stdout",
     "output_type": "stream",
     "text": [
      "[[14 17 'emnist']]\n",
      "14 17 emnist\n",
      "lda\n",
      "0 0\n",
      "0.5947521865889213\n",
      "0 1\n"
     ]
    },
    {
     "name": "stderr",
     "output_type": "stream",
     "text": [
      "/home/ilenna/.conda/envs/py36_mod2/lib/python3.6/site-packages/sklearn/discriminant_analysis.py:388: UserWarning: Variables are collinear.\n",
      "  warnings.warn(\"Variables are collinear.\")\n"
     ]
    },
    {
     "name": "stdout",
     "output_type": "stream",
     "text": [
      "0.6173469387755102\n",
      "0 2\n",
      "0.5663265306122449\n",
      "0 3\n",
      "0.6188046647230321\n",
      "0 4\n",
      "0.5940233236151603\n",
      "0 5\n",
      "0.5488338192419825\n",
      "0 6\n",
      "0.5743440233236151\n",
      "0 7\n",
      "0.577259475218659\n",
      "0 8\n",
      "0.5983965014577259\n",
      "0 9\n",
      "0.5962099125364432\n"
     ]
    }
   ],
   "source": [
    "# Initialize settings\n",
    "bs = 256\n",
    "weighting = 'paired'\n",
    "trials = 10\n",
    "\n",
    "classes = np.load('./results/20200324/classes_emnist.npy', allow_pickle=True)\n",
    "\n",
    "classes = classes[-1].reshape(1,-1)\n",
    "\n",
    "print(classes)\n",
    "score_test = np.zeros((len(classes), trials))\n",
    "\n",
    "    \n",
    "for j, (t1,t2,ds) in enumerate(classes):\n",
    "    \n",
    "    \n",
    "    print(t1, t2, ds)\n",
    "    print('lda')\n",
    "    trainloaders, validloaders, testloader = dataset_weighted_split_all(bs, t1, t2, weighting, trials, ds)\n",
    "    for i in range(trials):\n",
    "        print(j, i)\n",
    "        X_train = trainloaders[i].dataset.tensors[0]\n",
    "        y_train = trainloaders[i].dataset.tensors[1]\n",
    "        X_test = testloader.dataset.tensors[0]\n",
    "        y_test = testloader.dataset.tensors[1]\n",
    "\n",
    "        # initialize lda\n",
    "        lda = LinearDiscriminantAnalysis()\n",
    "\n",
    "        # fit to images, labels\n",
    "        lda.fit(X_train, y_train)\n",
    "\n",
    "        # see accuracy for validation set\n",
    "        score_test[j,i] = lda.score(X_test, y_test)\n",
    "        print(score_test[j,i])\n",
    "\n",
    "        np.save('./results/20200325/lda_score_test_emnist.npy', score_test)"
   ]
  },
  {
   "cell_type": "markdown",
   "metadata": {},
   "source": [
    "# FC control"
   ]
  },
  {
   "cell_type": "code",
   "execution_count": null,
   "metadata": {},
   "outputs": [],
   "source": [
    "# Initialize settings\n",
    "bs = 256\n",
    "weighting = 'paired'\n",
    "trials = 10\n",
    "epochs = 500\n",
    "\n",
    "classes = np.load('./results/20200324/classes.npy', allow_pickle=True)\n",
    "\n",
    "loss = np.zeros((len(classes), trials))\n",
    "acc = np.zeros((len(classes), trials))\n",
    "\n",
    "    \n",
    "for j, (t1, t2, ds) in enumerate(classes):\n",
    "    print(t1, t2, ds)\n",
    "    trainloaders, validloaders, testloader = dataset_weighted_split_all(bs, t1, t2, weighting, trials, ds)\n",
    "    input_size = trainloaders[0].dataset.tensors[0][0].shape[0]\n",
    "    for i in range(trials):\n",
    "        print(j, i)\n",
    "        model = simple_fcnn(input_size, input_size, 1).cuda()\n",
    "\n",
    "        loss_curve, acc_curve, loss[j,i], acc[j,i], model_t = train_test_fc(model, trainloaders[i],\n",
    "                                              validloaders[i], epochs = epochs)\n",
    "\n",
    "        np.save('./results/20200325/fc_acc.npy', acc)\n",
    "        np.save('./results/20200325/fc_loss.npy', loss)\n",
    "\n",
    "\n"
   ]
  },
  {
   "cell_type": "code",
   "execution_count": null,
   "metadata": {},
   "outputs": [],
   "source": [
    "# Initialize settings\n",
    "bs = 256\n",
    "weighting = 'paired'\n",
    "trials = 10\n",
    "epochs = 500\n",
    "\n",
    "classes = np.load('./results/20200324/classes_emnist.npy', allow_pickle=True)\n",
    "\n",
    "classes = classes[-1].reshape(1,-1)\n",
    "\n",
    "loss = np.zeros((len(classes), trials))\n",
    "acc = np.zeros((len(classes), trials))\n",
    "\n",
    "    \n",
    "for j, (t1, t2, ds) in enumerate(classes):\n",
    "    print(t1, t2, ds)\n",
    "    trainloaders, validloaders, testloader = dataset_weighted_split_all(bs, t1, t2, weighting, trials, ds)\n",
    "    input_size = trainloaders[0].dataset.tensors[0][0].shape[0]\n",
    "    for i in range(trials):\n",
    "        print(j, i)\n",
    "        model = simple_fcnn(input_size, input_size, 1).cuda()\n",
    "\n",
    "        loss_curve, acc_curve, loss[j,i], acc[j,i], model_t = train_test_fc(model, trainloaders[i],\n",
    "                                              validloaders[i], epochs = epochs)\n",
    "\n",
    "        np.save('./results/20200325/fc_acc_emnist.npy', acc)\n",
    "        np.save('./results/20200325/fc_loss_emnist.npy', loss)\n",
    "\n",
    "\n"
   ]
  },
  {
   "cell_type": "markdown",
   "metadata": {},
   "source": [
    "# Visualize classes"
   ]
  },
  {
   "cell_type": "code",
   "execution_count": 242,
   "metadata": {},
   "outputs": [
    {
     "name": "stdout",
     "output_type": "stream",
     "text": [
      "[3 5 'emnist']\n",
      "Files already downloaded and verified\n",
      "Files already downloaded and verified\n"
     ]
    }
   ],
   "source": [
    "bs = 256\n",
    "weighting = 'paired'\n",
    "trials = 10\n",
    "classes = np.load('./results/20200324/classes_emnist.npy', allow_pickle=True)\n",
    "\n",
    "\n",
    "# print(classes[idx])\n",
    "# t1 = classes[idx,0]\n",
    "# t2 = classes[idx,1]\n",
    "# ds = classes[idx,2]\n",
    "\n",
    "trainloaders, validloaders, testloader = dataset_weighted_split_all(bs, 2, 3, weighting, trials, 'cifar10')\n"
   ]
  },
  {
   "cell_type": "code",
   "execution_count": 245,
   "metadata": {},
   "outputs": [
    {
     "name": "stdout",
     "output_type": "stream",
     "text": [
      "<PIL.Image.Image image mode=RGB size=32x32 at 0x7F4C26434F28>\n"
     ]
    },
    {
     "data": {
      "image/png": "[encoded data removed]",
      "text/plain": [
       "<Figure size 432x288 with 1 Axes>"
      ]
     },
     "metadata": {
      "needs_background": "light"
     },
     "output_type": "display_data"
    },
    {
     "name": "stdout",
     "output_type": "stream",
     "text": [
      "tensor(0)\n",
      "<PIL.Image.Image image mode=RGB size=32x32 at 0x7F4BD40FA128>\n"
     ]
    },
    {
     "data": {
      "image/png": "[encoded data removed]",
      "text/plain": [
       "<Figure size 432x288 with 1 Axes>"
      ]
     },
     "metadata": {
      "needs_background": "light"
     },
     "output_type": "display_data"
    },
    {
     "name": "stdout",
     "output_type": "stream",
     "text": [
      "tensor(0)\n",
      "<PIL.Image.Image image mode=RGB size=32x32 at 0x7F4C2D67C9B0>\n"
     ]
    },
    {
     "data": {
      "image/png": "[encoded data removed]",
      "text/plain": [
       "<Figure size 432x288 with 1 Axes>"
      ]
     },
     "metadata": {
      "needs_background": "light"
     },
     "output_type": "display_data"
    },
    {
     "name": "stdout",
     "output_type": "stream",
     "text": [
      "tensor(1)\n",
      "<PIL.Image.Image image mode=RGB size=32x32 at 0x7F4C2640BF28>\n"
     ]
    },
    {
     "data": {
      "image/png": "[encoded data removed]",
      "text/plain": [
       "<Figure size 432x288 with 1 Axes>"
      ]
     },
     "metadata": {
      "needs_background": "light"
     },
     "output_type": "display_data"
    },
    {
     "name": "stdout",
     "output_type": "stream",
     "text": [
      "tensor(0)\n"
     ]
    }
   ],
   "source": [
    "for i, data in enumerate(trainloaders[0]):\n",
    "    images, labels, _ = data\n",
    "    \n",
    "    break\n",
    "    \n",
    "trans = transforms.ToPILImage()\n",
    "for i in range(4):\n",
    "    a = trans(images[i].view(3,32,32))\n",
    "    print(a)\n",
    "    plt.imshow(a)\n",
    "    plt.show()\n",
    "    print(labels[i])"
   ]
  },
  {
   "cell_type": "code",
   "execution_count": 229,
   "metadata": {},
   "outputs": [],
   "source": [
    "Train_set = torchvision.datasets.SVHN(root='./data', split='train')\n",
    "Test_set = torchvision.datasets.SVHN(root='./data', split='test')"
   ]
  },
  {
   "cell_type": "markdown",
   "metadata": {},
   "source": [
    "# Input randomization\n",
    "\n",
    "introduce random permutation to inputs"
   ]
  },
  {
   "cell_type": "code",
   "execution_count": 16,
   "metadata": {},
   "outputs": [],
   "source": [
    "bs = 256\n",
    "weighting = 'paired'\n",
    "trials = 10\n",
    "epochs = 5000\n",
    "trees_set = [1,2,4,8,16,32]\n",
    "classes = np.load('./results/20200504/classes.npy', allow_pickle=True)\n",
    "t1, t2, ds = classes[0]\n",
    "\n",
    "trainloaders, validloaders, testloader = dataset_weighted_split_all(bs, t1, t2, weighting, trials, ds)"
   ]
  },
  {
   "cell_type": "code",
   "execution_count": 35,
   "metadata": {},
   "outputs": [],
   "source": [
    "ordering = torch.randperm(len(trainloaders[0].dataset.tensors[0][0]))"
   ]
  },
  {
   "cell_type": "code",
   "execution_count": 39,
   "metadata": {},
   "outputs": [
    {
     "name": "stdout",
     "output_type": "stream",
     "text": [
      "256\n"
     ]
    },
    {
     "data": {
      "image/png": "[encoded data removed]",
      "text/plain": [
       "<Figure size 432x288 with 1 Axes>"
      ]
     },
     "metadata": {
      "needs_background": "light"
     },
     "output_type": "display_data"
    },
    {
     "data": {
      "image/png": "[encoded data removed]",
      "text/plain": [
       "<Figure size 432x288 with 1 Axes>"
      ]
     },
     "metadata": {
      "needs_background": "light"
     },
     "output_type": "display_data"
    }
   ],
   "source": [
    "for i, data in enumerate(trainloaders[0]):\n",
    "    inputs, labels, _ = data\n",
    "    \n",
    "    break\n",
    "    \n",
    "print(len(inputs))\n",
    "a = inputs[:,ordering]\n",
    "b = inputs[0,ordering]\n",
    "\n",
    "plt.imshow(a[0].view(28,28))\n",
    "plt.show()\n",
    "plt.imshow(b.view(28,28))\n",
    "plt.show()"
   ]
  },
  {
   "cell_type": "code",
   "execution_count": 4,
   "metadata": {},
   "outputs": [
    {
     "ename": "IndentationError",
     "evalue": "unexpected indent (<ipython-input-4-1aaea6af987a>, line 43)",
     "output_type": "error",
     "traceback": [
      "\u001b[1;36m  File \u001b[1;32m\"<ipython-input-4-1aaea6af987a>\"\u001b[1;36m, line \u001b[1;32m43\u001b[0m\n\u001b[1;33m    np.save('./results/20200504/k_tree_acc_'+str(class_set)+'.npy', acc)\u001b[0m\n\u001b[1;37m    ^\u001b[0m\n\u001b[1;31mIndentationError\u001b[0m\u001b[1;31m:\u001b[0m unexpected indent\n"
     ]
    }
   ],
   "source": [
    "# Select Class Set\n",
    "class_set = 0\n",
    "\n",
    "# Initialize settings\n",
    "bs = 256\n",
    "weighting = 'paired'\n",
    "trials = 10\n",
    "epochs = 50\n",
    "trees_set = [1,2,4,8,16,32]\n",
    "\n",
    "classes = np.load('./results/20200504/classes.npy', allow_pickle=True)\n",
    "\n",
    "if class_set == 0:\n",
    "    classes = classes[0:2] # mnist fmnist\n",
    "elif class_set == 1:\n",
    "    classes = classes[2:4] # kmnist emnist\n",
    "elif class_set == 2:\n",
    "    classes = classes[4:6] # svhn usps\n",
    "else:\n",
    "    classes = classes[6]\n",
    "\n",
    "\n",
    "loss = np.zeros((len(classes), trials, len(trees_set)))\n",
    "acc = np.zeros((len(classes), trials, len(trees_set)))\n",
    "\n",
    "    \n",
    "for j, (t1, t2, ds) in enumerate(classes):\n",
    "    print(t1, t2, ds)\n",
    "    trainloaders, validloaders, testloader = dataset_weighted_split_all(bs, t1, t2, weighting, trials, ds)\n",
    "    for i in range(trials):\n",
    "        for k, trees in enumerate(trees_set):\n",
    "            print(j, i, k)\n",
    "            model = ktree_gen(ds=ds, Repeats=trees).cuda()\n",
    "\n",
    "\n",
    "            \n",
    "            loss_curve, acc_curve, loss[j,i,k], acc[j,i,k], model_t, order = train_test_ktree(model, trainloaders[i],\n",
    "                                                                                  testloader, epochs = 5000, randorder=True)\n",
    "            break\n",
    "        break\n",
    "    break\n",
    "    \n",
    "            np.save('./results/20200504/k_tree_acc_'+str(class_set)+'.npy', acc)\n",
    "            np.save('./results/20200504/k_tree_loss_'+str(class_set)+'.npy', loss)\n"
   ]
  },
  {
   "cell_type": "code",
   "execution_count": 7,
   "metadata": {},
   "outputs": [
    {
     "data": {
      "image/png": "[encoded data removed]",
      "text/plain": [
       "<Figure size 432x288 with 1 Axes>"
      ]
     },
     "metadata": {
      "needs_background": "light"
     },
     "output_type": "display_data"
    },
    {
     "data": {
      "image/png": "[encoded data removed]",
      "text/plain": [
       "<Figure size 432x288 with 1 Axes>"
      ]
     },
     "metadata": {
      "needs_background": "light"
     },
     "output_type": "display_data"
    },
    {
     "name": "stdout",
     "output_type": "stream",
     "text": [
      "0.46898002103049424\n",
      "0.01134779118001461\n"
     ]
    }
   ],
   "source": [
    "plt.plot(loss_curve)\n",
    "plt.show()\n",
    "plt.plot(acc_curve)\n",
    "plt.show()\n",
    "print(acc[0,0,0])\n",
    "print(loss[0,0,0])"
   ]
  },
  {
   "cell_type": "markdown",
   "metadata": {},
   "source": [
    "# Permutation (thanks David!) testing\n",
    "\n",
    "data is permuted, next change model to take padded input (32x32)"
   ]
  },
  {
   "cell_type": "code",
   "execution_count": 5,
   "metadata": {},
   "outputs": [
    {
     "ename": "NameError",
     "evalue": "name 'np' is not defined",
     "output_type": "error",
     "traceback": [
      "\u001b[1;31m---------------------------------------------------------------------------\u001b[0m",
      "\u001b[1;31mNameError\u001b[0m                                 Traceback (most recent call last)",
      "\u001b[1;32m<ipython-input-5-d1fcdc558bbd>\u001b[0m in \u001b[0;36m<module>\u001b[1;34m\u001b[0m\n\u001b[0;32m     11\u001b[0m \u001b[1;33m\u001b[0m\u001b[0m\n\u001b[0;32m     12\u001b[0m \u001b[1;33m\u001b[0m\u001b[0m\n\u001b[1;32m---> 13\u001b[1;33m \u001b[0mclasses\u001b[0m \u001b[1;33m=\u001b[0m \u001b[0mnp\u001b[0m\u001b[1;33m.\u001b[0m\u001b[0mload\u001b[0m\u001b[1;33m(\u001b[0m\u001b[1;34m'./results/20200504/classes.npy'\u001b[0m\u001b[1;33m,\u001b[0m \u001b[0mallow_pickle\u001b[0m\u001b[1;33m=\u001b[0m\u001b[1;32mTrue\u001b[0m\u001b[1;33m)\u001b[0m\u001b[1;33m\u001b[0m\u001b[1;33m\u001b[0m\u001b[0m\n\u001b[0m\u001b[0;32m     14\u001b[0m \u001b[1;33m\u001b[0m\u001b[0m\n\u001b[0;32m     15\u001b[0m \u001b[1;32mif\u001b[0m \u001b[0mclass_set\u001b[0m \u001b[1;33m==\u001b[0m \u001b[1;36m0\u001b[0m\u001b[1;33m:\u001b[0m\u001b[1;33m\u001b[0m\u001b[1;33m\u001b[0m\u001b[0m\n",
      "\u001b[1;31mNameError\u001b[0m: name 'np' is not defined"
     ]
    }
   ],
   "source": [
    "# Select Class Set\n",
    "class_set = 3\n",
    "\n",
    "# Initialize settings\n",
    "bs = 256\n",
    "weighting = 'paired'\n",
    "trials = 10\n",
    "epochs = 2500\n",
    "# trees_set = [1,2,4,8,16,32]\n",
    "trees_set = [8]\n",
    "\n",
    "\n",
    "classes = np.load('./results/20200504/classes.npy', allow_pickle=True)\n",
    "\n",
    "if class_set == 0:\n",
    "    classes = classes[0:2] # mnist fmnist\n",
    "elif class_set == 1:\n",
    "    classes = classes[2:4] # kmnist emnist\n",
    "elif class_set == 2:\n",
    "    classes = classes[4:6] # svhn usps\n",
    "else:\n",
    "    classes = classes[6].reshape(1,-1)\n",
    "\n",
    "\n",
    "loss = np.zeros((len(classes), trials, len(trees_set)))\n",
    "acc = np.zeros((len(classes), trials, len(trees_set)))\n",
    "\n",
    "    \n",
    "for j, (t1, t2, ds) in enumerate(classes):\n",
    "    print(t1, t2, ds)\n",
    "    trainloaders, validloaders, testloader = dataset_weighted_split_all(bs, t1, t2, weighting, trials, ds, permute=True)\n",
    "    for i in range(trials):\n",
    "        for k, trees in enumerate(trees_set):\n",
    "            print(j, i, k)\n",
    "            model = ktree_gen(ds=ds, Repeats=trees, Padded=True).cuda()\n",
    "\n",
    "\n",
    "            \n",
    "            loss_curve, acc_curve, loss[j,i,k], acc[j,i,k], model_t= train_test_ktree(model, trainloaders[i],\n",
    "                                                                                  testloader, epochs = epochs, randorder=False)\n",
    "            break\n",
    "        break\n",
    "    break\n",
    "    \n",
    "#             np.save('./results/20200504/k_tree_acc_'+str(class_set)+'.npy', acc)\n",
    "#             np.save('./results/20200504/k_tree_loss_'+str(class_set)+'.npy', loss)\n"
   ]
  },
  {
   "cell_type": "code",
   "execution_count": 18,
   "metadata": {},
   "outputs": [
    {
     "name": "stdout",
     "output_type": "stream",
     "text": [
      "0.6265 3.9497616291046143\n"
     ]
    },
    {
     "data": {
      "image/png": "[encoded data removed]",
      "text/plain": [
       "<Figure size 432x288 with 1 Axes>"
      ]
     },
     "metadata": {
      "needs_background": "light"
     },
     "output_type": "display_data"
    },
    {
     "data": {
      "image/png": "[encoded data removed]",
      "text/plain": [
       "<Figure size 432x288 with 1 Axes>"
      ]
     },
     "metadata": {
      "needs_background": "light"
     },
     "output_type": "display_data"
    }
   ],
   "source": [
    "print(acc[0,0,0], loss[0,0,0])\n",
    "plt.plot(loss_curve)\n",
    "plt.show()\n",
    "plt.plot(acc_curve)\n",
    "plt.show()"
   ]
  },
  {
   "cell_type": "code",
   "execution_count": 19,
   "metadata": {},
   "outputs": [
    {
     "name": "stdout",
     "output_type": "stream",
     "text": [
      "2 3 cifar10\n",
      "Files already downloaded and verified\n",
      "Files already downloaded and verified\n",
      "0 0 0\n",
      "Finished Training, 2500 epochs\n",
      "Accuracy of the network on the test images: 66.100000 %\n"
     ]
    }
   ],
   "source": [
    "# Select Class Set\n",
    "class_set = 3\n",
    "\n",
    "# Initialize settings\n",
    "bs = 256\n",
    "weighting = 'paired'\n",
    "trials = 10\n",
    "epochs = 2500\n",
    "# trees_set = [1,2,4,8,16,32]\n",
    "trees_set = [8]\n",
    "\n",
    "\n",
    "classes = np.load('./results/20200504/classes.npy', allow_pickle=True)\n",
    "\n",
    "if class_set == 0:\n",
    "    classes = classes[0:2] # mnist fmnist\n",
    "elif class_set == 1:\n",
    "    classes = classes[2:4] # kmnist emnist\n",
    "elif class_set == 2:\n",
    "    classes = classes[4:6] # svhn usps\n",
    "else:\n",
    "    classes = classes[6].reshape(1,-1)\n",
    "\n",
    "\n",
    "loss = np.zeros((len(classes), trials, len(trees_set)))\n",
    "acc = np.zeros((len(classes), trials, len(trees_set)))\n",
    "\n",
    "    \n",
    "for j, (t1, t2, ds) in enumerate(classes):\n",
    "    print(t1, t2, ds)\n",
    "    trainloaders, validloaders, testloader = dataset_weighted_split_all(bs, t1, t2, weighting, trials, ds, permute=False)\n",
    "    for i in range(trials):\n",
    "        for k, trees in enumerate(trees_set):\n",
    "            print(j, i, k)\n",
    "            model = ktree_gen(ds=ds, Repeats=trees, Padded=False).cuda()\n",
    "\n",
    "\n",
    "            \n",
    "            loss_curve, acc_curve, loss[j,i,k], acc[j,i,k], model_t = train_test_ktree(model, trainloaders[i],\n",
    "                                                                                  testloader, epochs = epochs, randorder=False)\n",
    "            break\n",
    "        break\n",
    "    break\n",
    "    \n",
    "#             np.save('./results/20200504/k_tree_acc_'+str(class_set)+'.npy', acc)\n",
    "#             np.save('./results/20200504/k_tree_loss_'+str(class_set)+'.npy', loss)\n"
   ]
  },
  {
   "cell_type": "code",
   "execution_count": 20,
   "metadata": {},
   "outputs": [
    {
     "name": "stdout",
     "output_type": "stream",
     "text": [
      "0.661 3.6970162391662598\n"
     ]
    },
    {
     "data": {
      "image/png": "[encoded data removed]",
      "text/plain": [
       "<Figure size 432x288 with 1 Axes>"
      ]
     },
     "metadata": {
      "needs_background": "light"
     },
     "output_type": "display_data"
    },
    {
     "data": {
      "image/png": "[encoded data removed]",
      "text/plain": [
       "<Figure size 432x288 with 1 Axes>"
      ]
     },
     "metadata": {
      "needs_background": "light"
     },
     "output_type": "display_data"
    }
   ],
   "source": [
    "print(acc[0,0,0], loss[0,0,0])\n",
    "plt.plot(loss_curve)\n",
    "plt.show()\n",
    "plt.plot(acc_curve)\n",
    "plt.show()"
   ]
  },
  {
   "cell_type": "code",
   "execution_count": 5,
   "metadata": {},
   "outputs": [
    {
     "name": "stdout",
     "output_type": "stream",
     "text": [
      "torch.Size([256, 1024])\n"
     ]
    },
    {
     "data": {
      "text/plain": [
       "<matplotlib.image.AxesImage at 0x7f478025e5f8>"
      ]
     },
     "execution_count": 5,
     "metadata": {},
     "output_type": "execute_result"
    },
    {
     "data": {
      "image/png": "[encoded data removed]",
      "text/plain": [
       "<Figure size 432x288 with 1 Axes>"
      ]
     },
     "metadata": {
      "needs_background": "light"
     },
     "output_type": "display_data"
    }
   ],
   "source": [
    "# Permutation works\n",
    "\n",
    "bs = 256\n",
    "t1 = 0\n",
    "t2 = 1\n",
    "weighting = 'paired'\n",
    "trials = 10\n",
    "ds = 'mnist'\n",
    "permute = True\n",
    "\n",
    "trainloaders, validloaders, testloader = dataset_weighted_split_all(bs, t1, t2, weighting, \n",
    "                                                                    trials, ds, permute=True,\n",
    "                                                                    padded=True)\n",
    "\n",
    "trainloader = trainloaders[0]\n",
    "\n",
    "for i, data in enumerate(trainloader):\n",
    "    images, labels, _ = data\n",
    "    \n",
    "    break\n",
    "\n",
    "print(images.shape)\n",
    "plt.imshow(images[0].reshape(-1,32))"
   ]
  },
  {
   "cell_type": "code",
   "execution_count": 27,
   "metadata": {},
   "outputs": [
    {
     "data": {
      "text/plain": [
       "<matplotlib.image.AxesImage at 0x7f456407ab38>"
      ]
     },
     "execution_count": 27,
     "metadata": {},
     "output_type": "execute_result"
    },
    {
     "data": {
      "image/png": "[encoded data removed]",
      "text/plain": [
       "<Figure size 432x288 with 1 Axes>"
      ]
     },
     "metadata": {
      "needs_background": "light"
     },
     "output_type": "display_data"
    }
   ],
   "source": [
    "plt.imshow(model.w0_3.weight.data.cpu()[:16,:16])"
   ]
  },
  {
   "cell_type": "code",
   "execution_count": null,
   "metadata": {},
   "outputs": [],
   "source": []
  }
 ],
 "metadata": {
  "kernelspec": {
   "display_name": "Python 3",
   "language": "python",
   "name": "python3"
  },
  "language_info": {
   "codemirror_mode": {
    "name": "ipython",
    "version": 3
   },
   "file_extension": ".py",
   "mimetype": "text/x-python",
   "name": "python",
   "nbconvert_exporter": "python",
   "pygments_lexer": "ipython3",
   "version": "3.8.3"
  }
 },
 "nbformat": 4,
 "nbformat_minor": 4
}
