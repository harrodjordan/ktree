{
 "cells": [
  {
   "cell_type": "code",
   "execution_count": 1,
   "metadata": {},
   "outputs": [],
   "source": [
    "from custompackage.load_data import *\n",
    "from custompackage.load_architecture import *\n",
    "from custompackage.traintestloop import *\n",
    "\n",
    "import torch\n",
    "from torch.utils.data import DataLoader\n",
    "import torch.optim as optim\n",
    "import torch.nn as nn\n",
    "import numpy as np\n",
    "import math\n",
    "import torchvision\n",
    "from torchvision import transforms\n",
    "from sklearn.discriminant_analysis import LinearDiscriminantAnalysis\n",
    "from sklearn.metrics import classification_report, confusion_matrix\n",
    "from sklearn.svm import SVC\n",
    "from sklearn.linear_model import LogisticRegression\n",
    "from sklearn.naive_bayes import GaussianNB\n",
    "import matplotlib\n",
    "import matplotlib.pyplot as plt\n",
    "from torch.optim.optimizer import required\n",
    "from torch.utils.data.dataset import random_split\n",
    "import scipy\n",
    "import os\n",
    "import glob\n",
    "import pandas as pd\n",
    "import pickle\n",
    "\n",
    "%matplotlib inline"
   ]
  },
  {
   "cell_type": "code",
   "execution_count": 4,
   "metadata": {},
   "outputs": [
    {
     "name": "stdout",
     "output_type": "stream",
     "text": [
      "2 3 cifar10\n",
      "Files already downloaded and verified\n",
      "Files already downloaded and verified\n",
      "0 0 0\n",
      "Finished Training, 100 epochs\n",
      "Accuracy of the network on the test images: 58.200000 %\n"
     ]
    }
   ],
   "source": [
    "# Select Class Set\n",
    "class_set = 3\n",
    "\n",
    "# Initialize settings\n",
    "bs = 256\n",
    "weighting = 'paired'\n",
    "trials = 10\n",
    "epochs = 10\n",
    "# trees_set = [1,2,4,8,16,32]\n",
    "trees_set = [8]\n",
    "\n",
    "\n",
    "classes = np.load('./results/20200504/classes.npy', allow_pickle=True)\n",
    "\n",
    "if class_set == 0:\n",
    "    classes = classes[0:2] # mnist fmnist\n",
    "elif class_set == 1:\n",
    "    classes = classes[2:4] # kmnist emnist\n",
    "elif class_set == 2:\n",
    "    classes = classes[4:6] # svhn usps\n",
    "else:\n",
    "    classes = classes[6].reshape(1,-1)\n",
    "\n",
    "\n",
    "loss = np.zeros((len(classes), trials, len(trees_set)))\n",
    "acc = np.zeros((len(classes), trials, len(trees_set)))\n",
    "\n",
    "    \n",
    "for j, (t1, t2, ds) in enumerate(classes):\n",
    "    print(t1, t2, ds)\n",
    "    trainloaders, validloaders, testloader = dataset_weighted_split_all(bs, t1, t2, weighting, trials, ds, permute=True)\n",
    "    for i in range(trials):\n",
    "        for k, trees in enumerate(trees_set):\n",
    "            print(j, i, k)\n",
    "            model = ktree_gen(ds=ds, Repeats=trees, Padded=True).cuda()\n",
    "\n",
    "\n",
    "            \n",
    "            loss_curve, acc_curve, loss[j,i,k], acc[j,i,k], model_t= train_test_ktree(model, trainloaders[i],\n",
    "                                                                                  testloader, epochs = epochs, randorder=False)\n",
    "            break\n",
    "        break\n",
    "    break\n",
    "    \n",
    "#             np.save('./results/20200504/k_tree_acc_'+str(class_set)+'.npy', acc)\n",
    "#             np.save('./results/20200504/k_tree_loss_'+str(class_set)+'.npy', loss)\n"
   ]
  },
  {
   "cell_type": "code",
   "execution_count": 5,
   "metadata": {},
   "outputs": [
    {
     "data": {
      "text/plain": [
       "[<matplotlib.lines.Line2D at 0x7f6ba724d550>]"
      ]
     },
     "execution_count": 5,
     "metadata": {},
     "output_type": "execute_result"
    },
    {
     "data": {
      "image/png": "[encoded data removed]",
      "text/plain": [
       "<Figure size 432x288 with 1 Axes>"
      ]
     },
     "metadata": {
      "needs_background": "light"
     },
     "output_type": "display_data"
    }
   ],
   "source": [
    "plt.plot(acc_curve)"
   ]
  },
  {
   "cell_type": "code",
   "execution_count": 25,
   "metadata": {},
   "outputs": [],
   "source": [
    "### Start Collecting"
   ]
  },
  {
   "cell_type": "code",
   "execution_count": 41,
   "metadata": {},
   "outputs": [
    {
     "name": "stdout",
     "output_type": "stream",
     "text": [
      "(6, 10, 10, 10)\n",
      "[[3 5 'mnist' 0.8772344900105151 0 4 0.9688073394495413]\n",
      " [0 6 'fmnist' 0.67095 2 9 0.9676]\n",
      " [2 6 'kmnist' 0.68395 0 1 0.86295]\n",
      " [5 6 'svhn' 0.5153634487502866 1 9 0.6535255452644159]\n",
      " [3 5 'usps' 0.8429447852760736 0 9 0.9570895522388059]\n",
      " [3 5 'cifar10' 0.5216999999999998 6 8 0.749]]\n",
      "0.5707725947521867\n",
      "[[14 17 'emnist' 0.5707725947521867 21 24 0.9814941602899717]]\n",
      "(6, 7) (1, 7)\n",
      "[[3 5 'mnist']\n",
      " [0 6 'fmnist']\n",
      " [2 6 'kmnist']\n",
      " [14 17 'emnist']\n",
      " [5 6 'svhn']\n",
      " [3 5 'usps']\n",
      " [3 5 'cifar10']]\n"
     ]
    }
   ],
   "source": [
    "paired_test = np.load('./results/20200509/confused_pairs_all.npy')\n",
    "\n",
    "print(paired_test.shape)\n",
    "\n",
    "ds = 0\n",
    "pt_mean = np.mean(paired_test, axis=1)\n",
    "\n",
    "ds_set = ['mnist', 'fmnist', 'kmnist','svhn','usps', 'cifar10']\n",
    "\n",
    "classes = []\n",
    "\n",
    "paired_test\n",
    "for i, ds in enumerate(ds_set):\n",
    "    focus = pt_mean[i]\n",
    "\n",
    "    a = np.min(focus[np.nonzero(focus)])\n",
    "    b = np.sort(focus[np.nonzero(focus)])\n",
    "    e = b[len(b)-2]\n",
    "    c = np.where(focus == a)\n",
    "    d = np.where(focus == e)\n",
    "\n",
    "    classes.append([c[0][0], c[1][0], ds, a, d[0][0], d[1][0], e])\n",
    "\n",
    "classes = np.array(classes, dtype=object)\n",
    "classes_orig = classes\n",
    "print(classes)\n",
    "# np.save('./results/20200511/classes.npy', classes[:,:3], allow_pickle=True)\n",
    "\n",
    "# np.load('./results/20200511/classes.npy', allow_pickle=True)\n",
    "\n",
    "paired_test = np.load('./results/20200509/confused_pairs_emnist_upper.npy')\n",
    "paired_test.shape\n",
    "\n",
    "pt_mean = np.mean(paired_test, axis=1)\n",
    "\n",
    "ds_set = ['emnist']\n",
    "classes = []\n",
    "for i, ds in enumerate(ds_set):\n",
    "    focus = pt_mean[i]\n",
    "\n",
    "    a = np.min(focus[np.nonzero(focus)])\n",
    "    print(a)\n",
    "    b = np.sort(focus[np.nonzero(focus)])\n",
    "    e = b[len(b)-2]\n",
    "    c = np.where(focus == a)\n",
    "    d = np.where(focus == e)\n",
    "    \n",
    "    classes.append([c[0][0]+10, c[1][0]+10, ds, a, d[0][0]+10, d[1][0]+10, e ])\n",
    "\n",
    "classes = np.array(classes, dtype=object)\n",
    "\n",
    "print(classes)\n",
    "# intermed = np.concatenate((class_orig, classes), 0)\n",
    "# np.save('./results/20200511/classes_emnist_perf.npy', intermed, allow_pickle=True)\n",
    "# np.save('./results/20200511/classes.npy', classes, allow_pickle=True)\n",
    "\n",
    "# classes_orig = np.load('./results/20200511/classes.npy', allow_pickle=True)\n",
    "print(classes_orig.shape, classes[:,:].shape)\n",
    "classes_final = np.concatenate((classes_orig[:,:3],classes[:,:3]),0)\n",
    "a = classes_final[3:6].copy()\n",
    "b = classes_final[6].copy()\n",
    "classes_final[3] = b\n",
    "classes_final[4:] = a\n",
    "\n",
    "print(classes_final)\n",
    "# # np.save('./results/20200511/classes.npy', classes_final, allow_pickle=True)"
   ]
  },
  {
   "cell_type": "code",
   "execution_count": null,
   "metadata": {},
   "outputs": [],
   "source": []
  },
  {
   "cell_type": "code",
   "execution_count": null,
   "metadata": {},
   "outputs": [],
   "source": []
  },
  {
   "cell_type": "code",
   "execution_count": null,
   "metadata": {},
   "outputs": [],
   "source": []
  }
 ],
 "metadata": {
  "kernelspec": {
   "display_name": "Python 3",
   "language": "python",
   "name": "python3"
  },
  "language_info": {
   "codemirror_mode": {
    "name": "ipython",
    "version": 3
   },
   "file_extension": ".py",
   "mimetype": "text/x-python",
   "name": "python",
   "nbconvert_exporter": "python",
   "pygments_lexer": "ipython3",
   "version": "3.6.6"
  }
 },
 "nbformat": 4,
 "nbformat_minor": 4
}
