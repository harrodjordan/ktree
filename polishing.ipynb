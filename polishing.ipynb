{
 "cells": [
  {
   "cell_type": "code",
   "execution_count": 1,
   "metadata": {},
   "outputs": [],
   "source": [
    "from custompackage.load_data import *\n",
    "from custompackage.load_architecture import *\n",
    "from custompackage.traintestloop import *\n",
    "\n",
    "import torch\n",
    "from torch.utils.data import DataLoader\n",
    "import torch.optim as optim\n",
    "import torch.nn as nn\n",
    "import numpy as np\n",
    "import math\n",
    "import torchvision\n",
    "from torchvision import transforms\n",
    "from sklearn.discriminant_analysis import LinearDiscriminantAnalysis\n",
    "from sklearn.metrics import classification_report, confusion_matrix\n",
    "from sklearn.svm import SVC\n",
    "from sklearn.linear_model import LogisticRegression\n",
    "from sklearn.naive_bayes import GaussianNB\n",
    "import matplotlib\n",
    "import matplotlib.pyplot as plt\n",
    "from torch.optim.optimizer import required\n",
    "from torch.utils.data.dataset import random_split\n",
    "import scipy\n",
    "import os\n",
    "import glob\n",
    "import pandas as pd\n",
    "import pickle\n",
    "\n",
    "%matplotlib inline"
   ]
  },
  {
   "cell_type": "code",
   "execution_count": 2,
   "metadata": {},
   "outputs": [
    {
     "name": "stdout",
     "output_type": "stream",
     "text": [
      "2 3 cifar10\n",
      "Files already downloaded and verified\n",
      "Files already downloaded and verified\n",
      "0 0 0\n"
     ]
    },
    {
     "ename": "KeyboardInterrupt",
     "evalue": "",
     "output_type": "error",
     "traceback": [
      "\u001b[1;31m---------------------------------------------------------------------------\u001b[0m",
      "\u001b[1;31mKeyboardInterrupt\u001b[0m                         Traceback (most recent call last)",
      "\u001b[1;32m<ipython-input-2-73f406034d0e>\u001b[0m in \u001b[0;36m<module>\u001b[1;34m\u001b[0m\n\u001b[0;32m     37\u001b[0m \u001b[1;33m\u001b[0m\u001b[0m\n\u001b[0;32m     38\u001b[0m \u001b[1;33m\u001b[0m\u001b[0m\n\u001b[1;32m---> 39\u001b[1;33m             loss_curve, acc_curve, loss[j,i,k], acc[j,i,k], model_t= train_test_ktree(model, trainloaders[i],\n\u001b[0m\u001b[0;32m     40\u001b[0m                                                                                   testloader, epochs = epochs, randorder=False)\n\u001b[0;32m     41\u001b[0m             \u001b[1;32mbreak\u001b[0m\u001b[1;33m\u001b[0m\u001b[1;33m\u001b[0m\u001b[0m\n",
      "\u001b[1;32m~\\Desktop\\ktree\\custompackage\\traintestloop.py\u001b[0m in \u001b[0;36mtrain_test_ktree\u001b[1;34m(model, trainloader, testloader, epochs, randorder)\u001b[0m\n\u001b[0;32m   1967\u001b[0m                     \u001b[1;32mfor\u001b[0m \u001b[0mfreeze_mask\u001b[0m \u001b[1;32min\u001b[0m \u001b[0mmodel\u001b[0m\u001b[1;33m.\u001b[0m\u001b[0mfreeze_mask_set\u001b[0m\u001b[1;33m:\u001b[0m\u001b[1;33m\u001b[0m\u001b[1;33m\u001b[0m\u001b[0m\n\u001b[0;32m   1968\u001b[0m                         \u001b[1;32mif\u001b[0m \u001b[0mparam\u001b[0m\u001b[1;33m.\u001b[0m\u001b[0mgrad\u001b[0m\u001b[1;33m.\u001b[0m\u001b[0mshape\u001b[0m \u001b[1;33m==\u001b[0m \u001b[0mfreeze_mask\u001b[0m\u001b[1;33m.\u001b[0m\u001b[0mshape\u001b[0m\u001b[1;33m:\u001b[0m\u001b[1;33m\u001b[0m\u001b[1;33m\u001b[0m\u001b[0m\n\u001b[1;32m-> 1969\u001b[1;33m                             \u001b[0mparam\u001b[0m\u001b[1;33m.\u001b[0m\u001b[0mgrad\u001b[0m\u001b[1;33m[\u001b[0m\u001b[0mfreeze_mask\u001b[0m\u001b[1;33m]\u001b[0m \u001b[1;33m=\u001b[0m \u001b[1;36m0\u001b[0m\u001b[1;33m\u001b[0m\u001b[1;33m\u001b[0m\u001b[0m\n\u001b[0m\u001b[0;32m   1970\u001b[0m \u001b[1;33m\u001b[0m\u001b[0m\n\u001b[0;32m   1971\u001b[0m             \u001b[0moptimizer\u001b[0m\u001b[1;33m.\u001b[0m\u001b[0mstep\u001b[0m\u001b[1;33m(\u001b[0m\u001b[1;33m)\u001b[0m\u001b[1;33m\u001b[0m\u001b[1;33m\u001b[0m\u001b[0m\n",
      "\u001b[1;31mKeyboardInterrupt\u001b[0m: "
     ]
    }
   ],
   "source": [
    "# Select Class Set\n",
    "class_set = 3\n",
    "\n",
    "# Initialize settings\n",
    "bs = 256\n",
    "weighting = 'paired'\n",
    "trials = 10\n",
    "epochs = 1000\n",
    "# trees_set = [1,2,4,8,16,32]\n",
    "trees_set = [8]\n",
    "\n",
    "\n",
    "classes = np.load('./results/20200504/classes.npy', allow_pickle=True)\n",
    "\n",
    "if class_set == 0:\n",
    "    classes = classes[0:2] # mnist fmnist\n",
    "elif class_set == 1:\n",
    "    classes = classes[2:4] # kmnist emnist\n",
    "elif class_set == 2:\n",
    "    classes = classes[4:6] # svhn usps\n",
    "else:\n",
    "    classes = classes[6].reshape(1,-1)\n",
    "\n",
    "\n",
    "loss = np.zeros((len(classes), trials, len(trees_set)))\n",
    "acc = np.zeros((len(classes), trials, len(trees_set)))\n",
    "\n",
    "    \n",
    "for j, (t1, t2, ds) in enumerate(classes):\n",
    "    print(t1, t2, ds)\n",
    "    trainloaders, validloaders, testloader = dataset_weighted_split_all(bs, t1, t2, weighting, trials, ds, permute=True)\n",
    "    for i in range(trials):\n",
    "        for k, trees in enumerate(trees_set):\n",
    "            print(j, i, k)\n",
    "            model = ktree_gen(ds=ds, Repeats=trees, Padded=True).cuda()\n",
    "\n",
    "\n",
    "            \n",
    "            loss_curve, acc_curve, loss[j,i,k], acc[j,i,k], model_t= train_test_ktree(model, trainloaders[i],\n",
    "                                                                                  testloader, epochs = epochs, randorder=False)\n",
    "            break\n",
    "        break\n",
    "    break\n",
    "    \n",
    "#             np.save('./results/20200504/k_tree_acc_'+str(class_set)+'.npy', acc)\n",
    "#             np.save('./results/20200504/k_tree_loss_'+str(class_set)+'.npy', loss)\n"
   ]
  },
  {
   "cell_type": "code",
   "execution_count": null,
   "metadata": {},
   "outputs": [],
   "source": [
    "plt.plot(acc_curve)"
   ]
  },
  {
   "cell_type": "code",
   "execution_count": null,
   "metadata": {},
   "outputs": [],
   "source": []
  }
 ],
 "metadata": {
  "kernelspec": {
   "display_name": "Python 3",
   "language": "python",
   "name": "python3"
  },
  "language_info": {
   "codemirror_mode": {
    "name": "ipython",
    "version": 3
   },
   "file_extension": ".py",
   "mimetype": "text/x-python",
   "name": "python",
   "nbconvert_exporter": "python",
   "pygments_lexer": "ipython3",
   "version": "3.8.3"
  }
 },
 "nbformat": 4,
 "nbformat_minor": 4
}
